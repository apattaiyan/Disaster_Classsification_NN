{
 "cells": [
  {
   "cell_type": "markdown",
   "id": "1934d3a1",
   "metadata": {},
   "source": [
    "## Bidirectional Long Short Term Memory Cells Model"
   ]
  },
  {
   "cell_type": "markdown",
   "id": "4f4b9954",
   "metadata": {},
   "source": [
    "### Import necessary Libraries"
   ]
  },
  {
   "cell_type": "code",
   "execution_count": 1,
   "id": "e629d391",
   "metadata": {},
   "outputs": [
    {
     "name": "stdout",
     "output_type": "stream",
     "text": [
      "WARNING:tensorflow:From C:\\Users\\Aravinthkumar\\AppData\\Roaming\\Python\\Python310\\site-packages\\tf_keras\\src\\losses.py:2976: The name tf.losses.sparse_softmax_cross_entropy is deprecated. Please use tf.compat.v1.losses.sparse_softmax_cross_entropy instead.\n",
      "\n"
     ]
    }
   ],
   "source": [
    "import pandas as pd\n",
    "import numpy as np\n",
    "import nltk\n",
    "import re\n",
    "import string\n",
    "import html\n",
    "import matplotlib.pyplot as plt\n",
    "from nltk.tokenize import word_tokenize\n",
    "from nltk.corpus import stopwords, wordnet\n",
    "from nltk.stem import WordNetLemmatizer\n",
    "from transformers import BertTokenizer, TFBertModel, TFBertForSequenceClassification\n",
    "from sklearn.model_selection import train_test_split\n",
    "from sklearn.metrics import accuracy_score, classification_report\n",
    "from imblearn.over_sampling import SMOTE\n",
    "from sklearn.utils import resample\n",
    "import tensorflow as tf\n",
    "from tensorflow.keras.preprocessing.text import Tokenizer\n",
    "from tensorflow.keras.preprocessing.sequence import pad_sequences\n",
    "from tensorflow.keras.models import Sequential\n",
    "from tensorflow.keras.layers import Dense, LSTM, Embedding, SpatialDropout1D, Bidirectional, Dropout\n",
    "from tensorflow.keras.callbacks import EarlyStopping, ModelCheckpoint\n",
    "from sklearn.metrics import classification_report, accuracy_score, precision_recall_fscore_support"
   ]
  },
  {
   "cell_type": "markdown",
   "id": "bf4ceac8",
   "metadata": {},
   "source": [
    "### Data Preprocessing and Preperation"
   ]
  },
  {
   "cell_type": "code",
   "execution_count": 2,
   "id": "5e63e7b7",
   "metadata": {},
   "outputs": [],
   "source": [
    "# Load Data\n",
    "df = pd.read_csv('tweets.csv')\n",
    "\n",
    "# Text Preprocessing Functions\n",
    "def remove_URL(text):\n",
    "    url = re.compile(r'https?://\\S+|www\\.\\S+')\n",
    "    return url.sub(r'', text)\n",
    "\n",
    "def remove_emoji(text):\n",
    "    emoji_pattern = re.compile(\n",
    "        '['\n",
    "        u'\\U0001F600-\\U0001F64F'\n",
    "        u'\\U0001F300-\\U0001F5FF'\n",
    "        u'\\U0001F680-\\U0001F6FF'\n",
    "        u'\\U0001F1E0-\\U0001F1FF'\n",
    "        u'\\U00002702-\\U000027B0'\n",
    "        u'\\U000024C2-\\U0001F251'\n",
    "        ']+', flags=re.UNICODE)\n",
    "    return emoji_pattern.sub(r'', text)\n",
    "\n",
    "def remove_html(text):\n",
    "    html_tag = re.compile(r'<.*?>')\n",
    "    return html_tag.sub(r'', text)\n",
    "\n",
    "def remove_punct(text):\n",
    "    return text.translate(str.maketrans('', '', string.punctuation + \"“”’‘\"))\n",
    "\n",
    "def remove_html_entities(text):\n",
    "    return html.unescape(text)\n",
    "\n",
    "# Apply Preprocessing\n",
    "df['text_clean'] = df['text'].apply(remove_URL)\n",
    "df['text_clean'] = df['text_clean'].apply(remove_emoji)\n",
    "df['text_clean'] = df['text_clean'].apply(remove_html)\n",
    "df['text_clean'] = df['text_clean'].apply(remove_html_entities)\n",
    "df['text_clean'] = df['text_clean'].apply(remove_punct)\n",
    "\n",
    "# Tokenizing the clean text\n",
    "df['tokenized'] = df['text_clean'].apply(word_tokenize)\n",
    "\n",
    "# Lowercasing the tokenized text\n",
    "df['lower'] = df['tokenized'].apply(lambda x: [word.lower() for word in x])\n",
    "\n",
    "# Removing stopwords\n",
    "stop = set(stopwords.words('english'))\n",
    "df['stopwords_removed'] = df['lower'].apply(lambda x: [word for word in x if word not in stop])\n",
    "\n",
    "# Apply Lemmatization\n",
    "wnl = WordNetLemmatizer()\n",
    "\n",
    "def get_wordnet_pos(tag):\n",
    "    if tag.startswith('J'):\n",
    "        return wordnet.ADJ\n",
    "    elif tag.startswith('V'):\n",
    "        return wordnet.VERB\n",
    "    elif tag.startswith('N'):\n",
    "        return wordnet.NOUN\n",
    "    elif tag.startswith('R'):\n",
    "        return wordnet.ADV\n",
    "    else:\n",
    "        return None\n",
    "\n",
    "df['pos_tags'] = df['stopwords_removed'].apply(nltk.tag.pos_tag)\n",
    "df['wordnet_pos'] = df['pos_tags'].apply(lambda x: [(word, get_wordnet_pos(pos_tag)) for (word, pos_tag) in x])\n",
    "df['lemmatized'] = df['wordnet_pos'].apply(lambda x: [wnl.lemmatize(word, tag) for word, tag in x if tag is not None])\n",
    "df['final_text'] = df['lemmatized'].apply(' '.join)\n",
    "\n",
    "# Splitting the Data\n",
    "X = df['final_text']\n",
    "y = df['target']\n",
    "\n",
    "X_train, X_test, y_train, y_test = train_test_split(X, y, test_size=0.2, random_state=42)\n"
   ]
  },
  {
   "cell_type": "markdown",
   "id": "a28851d6",
   "metadata": {},
   "source": [
    "### Tokenisation"
   ]
  },
  {
   "cell_type": "code",
   "execution_count": 3,
   "id": "d0c1acfb",
   "metadata": {},
   "outputs": [],
   "source": [
    "# Tokenize the data\n",
    "tokenizer = Tokenizer(num_words=5000)\n",
    "tokenizer.fit_on_texts(X_train)\n",
    "X_train_seq = tokenizer.texts_to_sequences(X_train)\n",
    "X_test_seq = tokenizer.texts_to_sequences(X_test)\n",
    "\n",
    "# Pad the sequences\n",
    "max_len = 100\n",
    "X_train_pad = pad_sequences(X_train_seq, maxlen=max_len, padding='post')\n",
    "X_test_pad = pad_sequences(X_test_seq, maxlen=max_len, padding='post')\n",
    "\n",
    "# Handle class imbalance by oversampling the minority class\n",
    "train_data = pd.concat([pd.DataFrame(X_train_pad), pd.Series(y_train).reset_index(drop=True)], axis=1)\n",
    "train_majority = train_data[train_data[train_data.columns[-1]] == train_data[train_data.columns[-1]].mode()[0]]\n",
    "train_minority = train_data[train_data[train_data.columns[-1]] != train_data[train_data.columns[-1]].mode()[0]]\n",
    "\n",
    "train_minority_upsampled = resample(train_minority, \n",
    "                                    replace=True,     # sample with replacement\n",
    "                                    n_samples=len(train_majority),    # to match majority class\n",
    "                                    random_state=42) # reproducible results\n",
    "\n",
    "train_upsampled = pd.concat([train_majority, train_minority_upsampled])\n",
    "\n",
    "X_train_sm = train_upsampled.iloc[:, :-1].values\n",
    "y_train_sm = train_upsampled.iloc[:, -1].values"
   ]
  },
  {
   "cell_type": "markdown",
   "id": "82e29fcb",
   "metadata": {},
   "source": [
    "### Model fitting and evaluation of BiLSTM with Word Embedding"
   ]
  },
  {
   "cell_type": "code",
   "execution_count": 4,
   "id": "2a2ea55f",
   "metadata": {},
   "outputs": [
    {
     "name": "stdout",
     "output_type": "stream",
     "text": [
      "Epoch 1/10\n"
     ]
    },
    {
     "name": "stderr",
     "output_type": "stream",
     "text": [
      "C:\\Users\\Aravinthkumar\\AppData\\Roaming\\Python\\Python310\\site-packages\\keras\\src\\layers\\core\\embedding.py:90: UserWarning: Argument `input_length` is deprecated. Just remove it.\n",
      "  warnings.warn(\n"
     ]
    },
    {
     "name": "stdout",
     "output_type": "stream",
     "text": [
      "\u001b[1m231/231\u001b[0m \u001b[32m━━━━━━━━━━━━━━━━━━━━\u001b[0m\u001b[37m\u001b[0m \u001b[1m22s\u001b[0m 70ms/step - f1_score: 0.6957 - loss: 0.5823 - val_f1_score: 0.6952 - val_loss: 0.3029\n",
      "Epoch 2/10\n",
      "\u001b[1m231/231\u001b[0m \u001b[32m━━━━━━━━━━━━━━━━━━━━\u001b[0m\u001b[37m\u001b[0m \u001b[1m15s\u001b[0m 65ms/step - f1_score: 0.9134 - loss: 0.2366 - val_f1_score: 0.6947 - val_loss: 0.3014\n",
      "Epoch 3/10\n",
      "\u001b[1m231/231\u001b[0m \u001b[32m━━━━━━━━━━━━━━━━━━━━\u001b[0m\u001b[37m\u001b[0m \u001b[1m15s\u001b[0m 65ms/step - f1_score: 0.9582 - loss: 0.1340 - val_f1_score: 0.6612 - val_loss: 0.3909\n",
      "Epoch 4/10\n",
      "\u001b[1m231/231\u001b[0m \u001b[32m━━━━━━━━━━━━━━━━━━━━\u001b[0m\u001b[37m\u001b[0m \u001b[1m15s\u001b[0m 65ms/step - f1_score: 0.9669 - loss: 0.1076 - val_f1_score: 0.6620 - val_loss: 0.4444\n",
      "Epoch 5/10\n",
      "\u001b[1m231/231\u001b[0m \u001b[32m━━━━━━━━━━━━━━━━━━━━\u001b[0m\u001b[37m\u001b[0m \u001b[1m17s\u001b[0m 72ms/step - f1_score: 0.9747 - loss: 0.0813 - val_f1_score: 0.6523 - val_loss: 0.4853\n"
     ]
    },
    {
     "data": {
      "image/png": "[encoded data removed]",
      "text/plain": [
       "<Figure size 1200x600 with 2 Axes>"
      ]
     },
     "metadata": {},
     "output_type": "display_data"
    },
    {
     "name": "stdout",
     "output_type": "stream",
     "text": [
      "\u001b[1m72/72\u001b[0m \u001b[32m━━━━━━━━━━━━━━━━━━━━\u001b[0m\u001b[37m\u001b[0m \u001b[1m2s\u001b[0m 19ms/step\n",
      "LSTM Model Evaluation:\n",
      "Accuracy: 0.8883\n",
      "Precision: 0.6628\n",
      "Recall: 0.7298\n",
      "F1 Score: 0.6947\n"
     ]
    }
   ],
   "source": [
    "# Define a custom F1 Score metric\n",
    "class F1Score(tf.keras.metrics.Metric):\n",
    "    def __init__(self, name='f1_score', **kwargs):\n",
    "        super(F1Score, self).__init__(name=name, **kwargs)\n",
    "        self.precision = tf.keras.metrics.Precision()\n",
    "        self.recall = tf.keras.metrics.Recall()\n",
    "\n",
    "    def update_state(self, y_true, y_pred, sample_weight=None):\n",
    "        self.precision.update_state(y_true, y_pred, sample_weight)\n",
    "        self.recall.update_state(y_true, y_pred, sample_weight)\n",
    "\n",
    "    def result(self):\n",
    "        precision = self.precision.result()\n",
    "        recall = self.recall.result()\n",
    "        return 2 * ((precision * recall) / (precision + recall + tf.keras.backend.epsilon()))\n",
    "\n",
    "    def reset_states(self):\n",
    "        self.precision.reset_states()\n",
    "        self.recall.reset_states()\n",
    "\n",
    "# Build LSTM model\n",
    "lstm_model = Sequential()\n",
    "lstm_model.add(Embedding(input_dim=5000, output_dim=50, input_length=max_len))\n",
    "lstm_model.add(SpatialDropout1D(0.3))\n",
    "lstm_model.add(Bidirectional(LSTM(64, return_sequences=True, dropout=0.3, recurrent_dropout=0.3)))\n",
    "lstm_model.add(Bidirectional(LSTM(32, dropout=0.3, recurrent_dropout=0.3)))\n",
    "lstm_model.add(Dropout(0.3))\n",
    "lstm_model.add(Dense(64, activation='relu'))\n",
    "lstm_model.add(Dropout(0.3))\n",
    "lstm_model.add(Dense(1, activation='sigmoid'))\n",
    "\n",
    "# Compile the model\n",
    "lstm_model.compile(loss='binary_crossentropy', optimizer=tf.keras.optimizers.Adam(learning_rate=0.001), metrics=[F1Score()])\n",
    "\n",
    "# Train the LSTM model\n",
    "lstm_history = lstm_model.fit(\n",
    "    X_train_sm, y_train_sm,\n",
    "    validation_data=(X_test_pad, y_test),\n",
    "    epochs=10,\n",
    "    batch_size=64,\n",
    "    callbacks=[EarlyStopping(monitor='val_loss', patience=3, restore_best_weights=True), ModelCheckpoint('best_lstm_model.keras', save_best_only=True, monitor='val_loss')]\n",
    ")\n",
    "\n",
    "\n",
    "train_loss = lstm_history.history['loss']\n",
    "val_loss = lstm_history.history['val_loss']\n",
    "\n",
    "# Plotting the loss\n",
    "plt.figure(figsize=(12, 6))\n",
    "\n",
    "# Plot Training vs Validation Loss\n",
    "plt.subplot(1, 2, 1)\n",
    "plt.plot(train_loss, label='Training Loss')\n",
    "plt.plot(val_loss, label='Validation Loss')\n",
    "plt.title('Training vs Validation Loss')\n",
    "plt.xlabel('Epochs')\n",
    "plt.ylabel('Loss')\n",
    "plt.legend()\n",
    "\n",
    "# Plot Precision vs Recall\n",
    "# Extracting the precision and recall from the history object\n",
    "precision = lstm_history.history['f1_score']\n",
    "recall = lstm_history.history['val_f1_score']  # Assuming this is stored, usually not the case, need to calculate manually\n",
    "epochs = range(1, len(precision) + 1)\n",
    "\n",
    "plt.subplot(1, 2, 2)\n",
    "plt.plot(epochs, precision, label='Precision')\n",
    "plt.plot(epochs, recall, label='Recall')\n",
    "plt.title('Precision vs Recall')\n",
    "plt.xlabel('Epochs')\n",
    "plt.ylabel('Score')\n",
    "plt.legend()\n",
    "\n",
    "plt.tight_layout()\n",
    "plt.show()\n",
    "\n",
    "\n",
    "# Make predictions on the test data\n",
    "y_pred_probs = lstm_model.predict(X_test_pad)\n",
    "y_pred = (y_pred_probs > 0.5).astype(int)\n",
    "\n",
    "# Evaluate the predictions\n",
    "accuracy = accuracy_score(y_test, y_pred)\n",
    "precision, recall, f1, _ = precision_recall_fscore_support(y_test, y_pred, average='binary')\n",
    "\n",
    "print(\"LSTM Model Evaluation:\")\n",
    "print(f\"Accuracy: {accuracy:.4f}\")\n",
    "print(f\"Precision: {precision:.4f}\")\n",
    "print(f\"Recall: {recall:.4f}\")\n",
    "print(f\"F1 Score: {f1:.4f}\")"
   ]
  },
  {
   "cell_type": "markdown",
   "id": "6ece3289",
   "metadata": {},
   "source": [
    "### Hyper Parameter Tuning of BiLSTM model with Word Embedding"
   ]
  },
  {
   "cell_type": "code",
   "execution_count": 5,
   "id": "6b4f80df",
   "metadata": {},
   "outputs": [],
   "source": [
    "def create_lstm_model(lstm_units, dropout_rate, learning_rate):\n",
    "    model = Sequential()\n",
    "    model.add(Embedding(input_dim=5000, output_dim=50, input_length=max_len))\n",
    "    model.add(SpatialDropout1D(dropout_rate))\n",
    "    model.add(Bidirectional(LSTM(lstm_units, return_sequences=True, dropout=dropout_rate, recurrent_dropout=dropout_rate)))\n",
    "    model.add(Bidirectional(LSTM(lstm_units // 2, dropout=dropout_rate, recurrent_dropout=dropout_rate)))\n",
    "    model.add(Dropout(dropout_rate))\n",
    "    model.add(Dense(64, activation='relu'))\n",
    "    model.add(Dropout(dropout_rate))\n",
    "    model.add(Dense(1, activation='sigmoid'))\n",
    "    \n",
    "    model.compile(loss='binary_crossentropy', \n",
    "                  optimizer=tf.keras.optimizers.Adam(learning_rate=learning_rate), \n",
    "                  metrics=[F1Score()])\n",
    "    return model"
   ]
  },
  {
   "cell_type": "code",
   "execution_count": 6,
   "id": "38864614",
   "metadata": {},
   "outputs": [
    {
     "name": "stdout",
     "output_type": "stream",
     "text": [
      "\n",
      "============================================================\n",
      "Testing parameters:\n",
      "LSTM units: 32\n",
      "Dropout rate: 0.2\n",
      "Learning rate: 0.001\n",
      "Batch size: 32\n",
      "Epochs: 10\n",
      "============================================================\n",
      "Epoch 1/10\n"
     ]
    },
    {
     "name": "stderr",
     "output_type": "stream",
     "text": [
      "C:\\Users\\Aravinthkumar\\AppData\\Roaming\\Python\\Python310\\site-packages\\keras\\src\\layers\\core\\embedding.py:90: UserWarning: Argument `input_length` is deprecated. Just remove it.\n",
      "  warnings.warn(\n"
     ]
    },
    {
     "name": "stdout",
     "output_type": "stream",
     "text": [
      "\u001b[1m285/285\u001b[0m \u001b[32m━━━━━━━━━━━━━━━━━━━━\u001b[0m\u001b[37m\u001b[0m \u001b[1m18s\u001b[0m 43ms/step - f1_score: 0.1172 - loss: 0.5104 - val_f1_score: 0.6359 - val_loss: 0.2803\n",
      "Epoch 2/10\n",
      "\u001b[1m285/285\u001b[0m \u001b[32m━━━━━━━━━━━━━━━━━━━━\u001b[0m\u001b[37m\u001b[0m \u001b[1m12s\u001b[0m 42ms/step - f1_score: 0.7324 - loss: 0.2513 - val_f1_score: 0.6918 - val_loss: 0.2610\n",
      "Epoch 3/10\n",
      "\u001b[1m285/285\u001b[0m \u001b[32m━━━━━━━━━━━━━━━━━━━━\u001b[0m\u001b[37m\u001b[0m \u001b[1m12s\u001b[0m 43ms/step - f1_score: 0.8309 - loss: 0.1825 - val_f1_score: 0.6923 - val_loss: 0.2637\n",
      "Epoch 4/10\n",
      "\u001b[1m285/285\u001b[0m \u001b[32m━━━━━━━━━━━━━━━━━━━━\u001b[0m\u001b[37m\u001b[0m \u001b[1m12s\u001b[0m 42ms/step - f1_score: 0.8755 - loss: 0.1379 - val_f1_score: 0.6877 - val_loss: 0.3071\n",
      "Epoch 5/10\n",
      "\u001b[1m285/285\u001b[0m \u001b[32m━━━━━━━━━━━━━━━━━━━━\u001b[0m\u001b[37m\u001b[0m \u001b[1m12s\u001b[0m 41ms/step - f1_score: 0.9024 - loss: 0.1094 - val_f1_score: 0.6809 - val_loss: 0.3472\n",
      "\u001b[1m72/72\u001b[0m \u001b[32m━━━━━━━━━━━━━━━━━━━━\u001b[0m\u001b[37m\u001b[0m \u001b[1m2s\u001b[0m 17ms/step\n",
      "Evaluation results:\n",
      "F1 Score: 0.6918\n",
      "Precision: 0.7406\n",
      "Recall: 0.6490\n",
      "\n",
      "Best model updated!\n",
      "\n",
      "============================================================\n",
      "Testing parameters:\n",
      "LSTM units: 32\n",
      "Dropout rate: 0.2\n",
      "Learning rate: 0.001\n",
      "Batch size: 64\n",
      "Epochs: 10\n",
      "============================================================\n",
      "Epoch 1/10\n"
     ]
    },
    {
     "name": "stderr",
     "output_type": "stream",
     "text": [
      "C:\\Users\\Aravinthkumar\\AppData\\Roaming\\Python\\Python310\\site-packages\\keras\\src\\layers\\core\\embedding.py:90: UserWarning: Argument `input_length` is deprecated. Just remove it.\n",
      "  warnings.warn(\n"
     ]
    },
    {
     "name": "stdout",
     "output_type": "stream",
     "text": [
      "\u001b[1m143/143\u001b[0m \u001b[32m━━━━━━━━━━━━━━━━━━━━\u001b[0m\u001b[37m\u001b[0m \u001b[1m13s\u001b[0m 51ms/step - f1_score: 0.0368 - loss: 0.5280 - val_f1_score: 0.6494 - val_loss: 0.2896\n",
      "Epoch 2/10\n",
      "\u001b[1m143/143\u001b[0m \u001b[32m━━━━━━━━━━━━━━━━━━━━\u001b[0m\u001b[37m\u001b[0m \u001b[1m7s\u001b[0m 48ms/step - f1_score: 0.7132 - loss: 0.2830 - val_f1_score: 0.6948 - val_loss: 0.2603\n",
      "Epoch 3/10\n",
      "\u001b[1m143/143\u001b[0m \u001b[32m━━━━━━━━━━━━━━━━━━━━\u001b[0m\u001b[37m\u001b[0m \u001b[1m7s\u001b[0m 48ms/step - f1_score: 0.8221 - loss: 0.1905 - val_f1_score: 0.6883 - val_loss: 0.2693\n",
      "Epoch 4/10\n",
      "\u001b[1m143/143\u001b[0m \u001b[32m━━━━━━━━━━━━━━━━━━━━\u001b[0m\u001b[37m\u001b[0m \u001b[1m7s\u001b[0m 48ms/step - f1_score: 0.8737 - loss: 0.1483 - val_f1_score: 0.6833 - val_loss: 0.2846\n",
      "Epoch 5/10\n",
      "\u001b[1m143/143\u001b[0m \u001b[32m━━━━━━━━━━━━━━━━━━━━\u001b[0m\u001b[37m\u001b[0m \u001b[1m7s\u001b[0m 48ms/step - f1_score: 0.9015 - loss: 0.1180 - val_f1_score: 0.6755 - val_loss: 0.3049\n",
      "\u001b[1m72/72\u001b[0m \u001b[32m━━━━━━━━━━━━━━━━━━━━\u001b[0m\u001b[37m\u001b[0m \u001b[1m2s\u001b[0m 16ms/step\n",
      "Evaluation results:\n",
      "F1 Score: 0.6948\n",
      "Precision: 0.7285\n",
      "Recall: 0.6641\n",
      "\n",
      "Best model updated!\n",
      "\n",
      "============================================================\n",
      "Testing parameters:\n",
      "LSTM units: 32\n",
      "Dropout rate: 0.2\n",
      "Learning rate: 0.005\n",
      "Batch size: 32\n",
      "Epochs: 10\n",
      "============================================================\n",
      "Epoch 1/10\n"
     ]
    },
    {
     "name": "stderr",
     "output_type": "stream",
     "text": [
      "C:\\Users\\Aravinthkumar\\AppData\\Roaming\\Python\\Python310\\site-packages\\keras\\src\\layers\\core\\embedding.py:90: UserWarning: Argument `input_length` is deprecated. Just remove it.\n",
      "  warnings.warn(\n"
     ]
    },
    {
     "name": "stdout",
     "output_type": "stream",
     "text": [
      "\u001b[1m285/285\u001b[0m \u001b[32m━━━━━━━━━━━━━━━━━━━━\u001b[0m\u001b[37m\u001b[0m \u001b[1m18s\u001b[0m 45ms/step - f1_score: 0.2737 - loss: 0.4356 - val_f1_score: 0.6823 - val_loss: 0.2792\n",
      "Epoch 2/10\n",
      "\u001b[1m285/285\u001b[0m \u001b[32m━━━━━━━━━━━━━━━━━━━━\u001b[0m\u001b[37m\u001b[0m \u001b[1m12s\u001b[0m 41ms/step - f1_score: 0.7858 - loss: 0.2189 - val_f1_score: 0.6860 - val_loss: 0.2571\n",
      "Epoch 3/10\n",
      "\u001b[1m285/285\u001b[0m \u001b[32m━━━━━━━━━━━━━━━━━━━━\u001b[0m\u001b[37m\u001b[0m \u001b[1m12s\u001b[0m 41ms/step - f1_score: 0.8481 - loss: 0.1575 - val_f1_score: 0.6738 - val_loss: 0.3162\n",
      "Epoch 4/10\n",
      "\u001b[1m285/285\u001b[0m \u001b[32m━━━━━━━━━━━━━━━━━━━━\u001b[0m\u001b[37m\u001b[0m \u001b[1m12s\u001b[0m 42ms/step - f1_score: 0.8926 - loss: 0.1155 - val_f1_score: 0.6798 - val_loss: 0.4029\n",
      "Epoch 5/10\n",
      "\u001b[1m285/285\u001b[0m \u001b[32m━━━━━━━━━━━━━━━━━━━━\u001b[0m\u001b[37m\u001b[0m \u001b[1m12s\u001b[0m 42ms/step - f1_score: 0.9311 - loss: 0.0799 - val_f1_score: 0.6729 - val_loss: 0.4213\n",
      "\u001b[1m72/72\u001b[0m \u001b[32m━━━━━━━━━━━━━━━━━━━━\u001b[0m\u001b[37m\u001b[0m \u001b[1m2s\u001b[0m 16ms/step\n",
      "Evaluation results:\n",
      "F1 Score: 0.6860\n",
      "Precision: 0.8034\n",
      "Recall: 0.5985\n",
      "\n",
      "\n",
      "============================================================\n",
      "Testing parameters:\n",
      "LSTM units: 32\n",
      "Dropout rate: 0.2\n",
      "Learning rate: 0.005\n",
      "Batch size: 64\n",
      "Epochs: 10\n",
      "============================================================\n",
      "Epoch 1/10\n"
     ]
    },
    {
     "name": "stderr",
     "output_type": "stream",
     "text": [
      "C:\\Users\\Aravinthkumar\\AppData\\Roaming\\Python\\Python310\\site-packages\\keras\\src\\layers\\core\\embedding.py:90: UserWarning: Argument `input_length` is deprecated. Just remove it.\n",
      "  warnings.warn(\n"
     ]
    },
    {
     "name": "stdout",
     "output_type": "stream",
     "text": [
      "\u001b[1m143/143\u001b[0m \u001b[32m━━━━━━━━━━━━━━━━━━━━\u001b[0m\u001b[37m\u001b[0m \u001b[1m13s\u001b[0m 55ms/step - f1_score: 0.2250 - loss: 0.4473 - val_f1_score: 0.6752 - val_loss: 0.2728\n",
      "Epoch 2/10\n",
      "\u001b[1m143/143\u001b[0m \u001b[32m━━━━━━━━━━━━━━━━━━━━\u001b[0m\u001b[37m\u001b[0m \u001b[1m7s\u001b[0m 49ms/step - f1_score: 0.7849 - loss: 0.2263 - val_f1_score: 0.6967 - val_loss: 0.2542\n",
      "Epoch 3/10\n",
      "\u001b[1m143/143\u001b[0m \u001b[32m━━━━━━━━━━━━━━━━━━━━\u001b[0m\u001b[37m\u001b[0m \u001b[1m7s\u001b[0m 50ms/step - f1_score: 0.8723 - loss: 0.1471 - val_f1_score: 0.6797 - val_loss: 0.2883\n",
      "Epoch 4/10\n",
      "\u001b[1m143/143\u001b[0m \u001b[32m━━━━━━━━━━━━━━━━━━━━\u001b[0m\u001b[37m\u001b[0m \u001b[1m7s\u001b[0m 49ms/step - f1_score: 0.9137 - loss: 0.1012 - val_f1_score: 0.6583 - val_loss: 0.3845\n",
      "Epoch 5/10\n",
      "\u001b[1m143/143\u001b[0m \u001b[32m━━━━━━━━━━━━━━━━━━━━\u001b[0m\u001b[37m\u001b[0m \u001b[1m7s\u001b[0m 48ms/step - f1_score: 0.9334 - loss: 0.0705 - val_f1_score: 0.6538 - val_loss: 0.3641\n",
      "\u001b[1m72/72\u001b[0m \u001b[32m━━━━━━━━━━━━━━━━━━━━\u001b[0m\u001b[37m\u001b[0m \u001b[1m2s\u001b[0m 17ms/step\n",
      "Evaluation results:\n",
      "F1 Score: 0.6967\n",
      "Precision: 0.7589\n",
      "Recall: 0.6439\n",
      "\n",
      "Best model updated!\n",
      "\n",
      "============================================================\n",
      "Testing parameters:\n",
      "LSTM units: 32\n",
      "Dropout rate: 0.3\n",
      "Learning rate: 0.001\n",
      "Batch size: 32\n",
      "Epochs: 10\n",
      "============================================================\n",
      "Epoch 1/10\n"
     ]
    },
    {
     "name": "stderr",
     "output_type": "stream",
     "text": [
      "C:\\Users\\Aravinthkumar\\AppData\\Roaming\\Python\\Python310\\site-packages\\keras\\src\\layers\\core\\embedding.py:90: UserWarning: Argument `input_length` is deprecated. Just remove it.\n",
      "  warnings.warn(\n"
     ]
    },
    {
     "name": "stdout",
     "output_type": "stream",
     "text": [
      "\u001b[1m285/285\u001b[0m \u001b[32m━━━━━━━━━━━━━━━━━━━━\u001b[0m\u001b[37m\u001b[0m \u001b[1m18s\u001b[0m 45ms/step - f1_score: 0.0563 - loss: 0.5074 - val_f1_score: 0.6333 - val_loss: 0.2846\n",
      "Epoch 2/10\n",
      "\u001b[1m285/285\u001b[0m \u001b[32m━━━━━━━━━━━━━━━━━━━━\u001b[0m\u001b[37m\u001b[0m \u001b[1m12s\u001b[0m 43ms/step - f1_score: 0.7081 - loss: 0.2784 - val_f1_score: 0.6762 - val_loss: 0.2632\n",
      "Epoch 3/10\n",
      "\u001b[1m285/285\u001b[0m \u001b[32m━━━━━━━━━━━━━━━━━━━━\u001b[0m\u001b[37m\u001b[0m \u001b[1m12s\u001b[0m 42ms/step - f1_score: 0.8244 - loss: 0.1812 - val_f1_score: 0.6856 - val_loss: 0.2634\n",
      "Epoch 4/10\n",
      "\u001b[1m285/285\u001b[0m \u001b[32m━━━━━━━━━━━━━━━━━━━━\u001b[0m\u001b[37m\u001b[0m \u001b[1m12s\u001b[0m 41ms/step - f1_score: 0.8773 - loss: 0.1437 - val_f1_score: 0.6942 - val_loss: 0.2938\n",
      "Epoch 5/10\n",
      "\u001b[1m285/285\u001b[0m \u001b[32m━━━━━━━━━━━━━━━━━━━━\u001b[0m\u001b[37m\u001b[0m \u001b[1m11s\u001b[0m 40ms/step - f1_score: 0.8834 - loss: 0.1355 - val_f1_score: 0.6824 - val_loss: 0.3142\n",
      "\u001b[1m72/72\u001b[0m \u001b[32m━━━━━━━━━━━━━━━━━━━━\u001b[0m\u001b[37m\u001b[0m \u001b[1m2s\u001b[0m 17ms/step\n",
      "Evaluation results:\n",
      "F1 Score: 0.6762\n",
      "Precision: 0.7770\n",
      "Recall: 0.5985\n",
      "\n",
      "\n",
      "============================================================\n",
      "Testing parameters:\n",
      "LSTM units: 32\n",
      "Dropout rate: 0.3\n",
      "Learning rate: 0.001\n",
      "Batch size: 64\n",
      "Epochs: 10\n",
      "============================================================\n",
      "Epoch 1/10\n"
     ]
    },
    {
     "name": "stderr",
     "output_type": "stream",
     "text": [
      "C:\\Users\\Aravinthkumar\\AppData\\Roaming\\Python\\Python310\\site-packages\\keras\\src\\layers\\core\\embedding.py:90: UserWarning: Argument `input_length` is deprecated. Just remove it.\n",
      "  warnings.warn(\n"
     ]
    },
    {
     "name": "stdout",
     "output_type": "stream",
     "text": [
      "\u001b[1m143/143\u001b[0m \u001b[32m━━━━━━━━━━━━━━━━━━━━\u001b[0m\u001b[37m\u001b[0m \u001b[1m13s\u001b[0m 52ms/step - f1_score: 0.0473 - loss: 0.5491 - val_f1_score: 0.0000e+00 - val_loss: 0.4058\n",
      "Epoch 2/10\n",
      "\u001b[1m143/143\u001b[0m \u001b[32m━━━━━━━━━━━━━━━━━━━━\u001b[0m\u001b[37m\u001b[0m \u001b[1m7s\u001b[0m 48ms/step - f1_score: 0.3991 - loss: 0.3481 - val_f1_score: 0.6951 - val_loss: 0.2614\n",
      "Epoch 3/10\n",
      "\u001b[1m143/143\u001b[0m \u001b[32m━━━━━━━━━━━━━━━━━━━━\u001b[0m\u001b[37m\u001b[0m \u001b[1m7s\u001b[0m 49ms/step - f1_score: 0.7790 - loss: 0.2193 - val_f1_score: 0.6925 - val_loss: 0.2596\n",
      "Epoch 4/10\n",
      "\u001b[1m143/143\u001b[0m \u001b[32m━━━━━━━━━━━━━━━━━━━━\u001b[0m\u001b[37m\u001b[0m \u001b[1m7s\u001b[0m 52ms/step - f1_score: 0.8301 - loss: 0.1803 - val_f1_score: 0.7023 - val_loss: 0.2949\n",
      "Epoch 5/10\n",
      "\u001b[1m143/143\u001b[0m \u001b[32m━━━━━━━━━━━━━━━━━━━━\u001b[0m\u001b[37m\u001b[0m \u001b[1m7s\u001b[0m 50ms/step - f1_score: 0.8717 - loss: 0.1437 - val_f1_score: 0.6887 - val_loss: 0.2964\n",
      "Epoch 6/10\n",
      "\u001b[1m143/143\u001b[0m \u001b[32m━━━━━━━━━━━━━━━━━━━━\u001b[0m\u001b[37m\u001b[0m \u001b[1m7s\u001b[0m 47ms/step - f1_score: 0.9063 - loss: 0.1179 - val_f1_score: 0.6914 - val_loss: 0.3300\n",
      "\u001b[1m72/72\u001b[0m \u001b[32m━━━━━━━━━━━━━━━━━━━━\u001b[0m\u001b[37m\u001b[0m \u001b[1m2s\u001b[0m 16ms/step\n",
      "Evaluation results:\n",
      "F1 Score: 0.6925\n",
      "Precision: 0.7669\n",
      "Recall: 0.6313\n",
      "\n",
      "\n",
      "============================================================\n",
      "Testing parameters:\n",
      "LSTM units: 32\n",
      "Dropout rate: 0.3\n",
      "Learning rate: 0.005\n",
      "Batch size: 32\n",
      "Epochs: 10\n",
      "============================================================\n",
      "Epoch 1/10\n"
     ]
    },
    {
     "name": "stderr",
     "output_type": "stream",
     "text": [
      "C:\\Users\\Aravinthkumar\\AppData\\Roaming\\Python\\Python310\\site-packages\\keras\\src\\layers\\core\\embedding.py:90: UserWarning: Argument `input_length` is deprecated. Just remove it.\n",
      "  warnings.warn(\n"
     ]
    },
    {
     "name": "stdout",
     "output_type": "stream",
     "text": [
      "\u001b[1m285/285\u001b[0m \u001b[32m━━━━━━━━━━━━━━━━━━━━\u001b[0m\u001b[37m\u001b[0m \u001b[1m18s\u001b[0m 44ms/step - f1_score: 0.2919 - loss: 0.4461 - val_f1_score: 0.6676 - val_loss: 0.2630\n",
      "Epoch 2/10\n",
      "\u001b[1m285/285\u001b[0m \u001b[32m━━━━━━━━━━━━━━━━━━━━\u001b[0m\u001b[37m\u001b[0m \u001b[1m12s\u001b[0m 42ms/step - f1_score: 0.7495 - loss: 0.2477 - val_f1_score: 0.6684 - val_loss: 0.2653\n",
      "Epoch 3/10\n",
      "\u001b[1m285/285\u001b[0m \u001b[32m━━━━━━━━━━━━━━━━━━━━\u001b[0m\u001b[37m\u001b[0m \u001b[1m12s\u001b[0m 42ms/step - f1_score: 0.8361 - loss: 0.1791 - val_f1_score: 0.6802 - val_loss: 0.2920\n",
      "Epoch 4/10\n",
      "\u001b[1m285/285\u001b[0m \u001b[32m━━━━━━━━━━━━━━━━━━━━\u001b[0m\u001b[37m\u001b[0m \u001b[1m12s\u001b[0m 41ms/step - f1_score: 0.8697 - loss: 0.1277 - val_f1_score: 0.6712 - val_loss: 0.3047\n",
      "\u001b[1m72/72\u001b[0m \u001b[32m━━━━━━━━━━━━━━━━━━━━\u001b[0m\u001b[37m\u001b[0m \u001b[1m2s\u001b[0m 16ms/step\n",
      "Evaluation results:\n",
      "F1 Score: 0.6676\n",
      "Precision: 0.7850\n",
      "Recall: 0.5808\n",
      "\n",
      "\n",
      "============================================================\n",
      "Testing parameters:\n",
      "LSTM units: 32\n",
      "Dropout rate: 0.3\n",
      "Learning rate: 0.005\n",
      "Batch size: 64\n",
      "Epochs: 10\n",
      "============================================================\n",
      "Epoch 1/10\n"
     ]
    },
    {
     "name": "stderr",
     "output_type": "stream",
     "text": [
      "C:\\Users\\Aravinthkumar\\AppData\\Roaming\\Python\\Python310\\site-packages\\keras\\src\\layers\\core\\embedding.py:90: UserWarning: Argument `input_length` is deprecated. Just remove it.\n",
      "  warnings.warn(\n"
     ]
    },
    {
     "name": "stdout",
     "output_type": "stream",
     "text": [
      "\u001b[1m143/143\u001b[0m \u001b[32m━━━━━━━━━━━━━━━━━━━━\u001b[0m\u001b[37m\u001b[0m \u001b[1m13s\u001b[0m 57ms/step - f1_score: 0.2039 - loss: 0.4632 - val_f1_score: 0.6733 - val_loss: 0.2664\n",
      "Epoch 2/10\n",
      "\u001b[1m143/143\u001b[0m \u001b[32m━━━━━━━━━━━━━━━━━━━━\u001b[0m\u001b[37m\u001b[0m \u001b[1m8s\u001b[0m 57ms/step - f1_score: 0.7634 - loss: 0.2376 - val_f1_score: 0.6647 - val_loss: 0.2624\n",
      "Epoch 3/10\n",
      "\u001b[1m143/143\u001b[0m \u001b[32m━━━━━━━━━━━━━━━━━━━━\u001b[0m\u001b[37m\u001b[0m \u001b[1m8s\u001b[0m 57ms/step - f1_score: 0.8143 - loss: 0.1822 - val_f1_score: 0.6724 - val_loss: 0.2794\n",
      "Epoch 4/10\n",
      "\u001b[1m143/143\u001b[0m \u001b[32m━━━━━━━━━━━━━━━━━━━━\u001b[0m\u001b[37m\u001b[0m \u001b[1m8s\u001b[0m 58ms/step - f1_score: 0.8755 - loss: 0.1287 - val_f1_score: 0.6716 - val_loss: 0.3498\n",
      "Epoch 5/10\n",
      "\u001b[1m143/143\u001b[0m \u001b[32m━━━━━━━━━━━━━━━━━━━━\u001b[0m\u001b[37m\u001b[0m \u001b[1m8s\u001b[0m 58ms/step - f1_score: 0.8910 - loss: 0.1040 - val_f1_score: 0.6621 - val_loss: 0.3761\n",
      "\u001b[1m72/72\u001b[0m \u001b[32m━━━━━━━━━━━━━━━━━━━━\u001b[0m\u001b[37m\u001b[0m \u001b[1m2s\u001b[0m 18ms/step\n",
      "Evaluation results:\n",
      "F1 Score: 0.6647\n",
      "Precision: 0.8007\n",
      "Recall: 0.5682\n",
      "\n",
      "\n",
      "============================================================\n",
      "Testing parameters:\n",
      "LSTM units: 64\n",
      "Dropout rate: 0.2\n",
      "Learning rate: 0.001\n",
      "Batch size: 32\n",
      "Epochs: 10\n",
      "============================================================\n",
      "Epoch 1/10\n"
     ]
    },
    {
     "name": "stderr",
     "output_type": "stream",
     "text": [
      "C:\\Users\\Aravinthkumar\\AppData\\Roaming\\Python\\Python310\\site-packages\\keras\\src\\layers\\core\\embedding.py:90: UserWarning: Argument `input_length` is deprecated. Just remove it.\n",
      "  warnings.warn(\n"
     ]
    },
    {
     "name": "stdout",
     "output_type": "stream",
     "text": [
      "\u001b[1m285/285\u001b[0m \u001b[32m━━━━━━━━━━━━━━━━━━━━\u001b[0m\u001b[37m\u001b[0m \u001b[1m23s\u001b[0m 64ms/step - f1_score: 0.1515 - loss: 0.4747 - val_f1_score: 0.6608 - val_loss: 0.2670\n",
      "Epoch 2/10\n",
      "\u001b[1m285/285\u001b[0m \u001b[32m━━━━━━━━━━━━━━━━━━━━\u001b[0m\u001b[37m\u001b[0m \u001b[1m17s\u001b[0m 61ms/step - f1_score: 0.7573 - loss: 0.2348 - val_f1_score: 0.6813 - val_loss: 0.2600\n",
      "Epoch 3/10\n",
      "\u001b[1m285/285\u001b[0m \u001b[32m━━━━━━━━━━━━━━━━━━━━\u001b[0m\u001b[37m\u001b[0m \u001b[1m18s\u001b[0m 63ms/step - f1_score: 0.8510 - loss: 0.1676 - val_f1_score: 0.6966 - val_loss: 0.2792\n",
      "Epoch 4/10\n",
      "\u001b[1m285/285\u001b[0m \u001b[32m━━━━━━━━━━━━━━━━━━━━\u001b[0m\u001b[37m\u001b[0m \u001b[1m17s\u001b[0m 61ms/step - f1_score: 0.8965 - loss: 0.1219 - val_f1_score: 0.6831 - val_loss: 0.3055\n",
      "Epoch 5/10\n",
      "\u001b[1m285/285\u001b[0m \u001b[32m━━━━━━━━━━━━━━━━━━━━\u001b[0m\u001b[37m\u001b[0m \u001b[1m18s\u001b[0m 61ms/step - f1_score: 0.9245 - loss: 0.0848 - val_f1_score: 0.6569 - val_loss: 0.3605\n",
      "\u001b[1m72/72\u001b[0m \u001b[32m━━━━━━━━━━━━━━━━━━━━\u001b[0m\u001b[37m\u001b[0m \u001b[1m2s\u001b[0m 26ms/step\n",
      "Evaluation results:\n",
      "F1 Score: 0.6813\n",
      "Precision: 0.8090\n",
      "Recall: 0.5884\n",
      "\n",
      "\n",
      "============================================================\n",
      "Testing parameters:\n",
      "LSTM units: 64\n",
      "Dropout rate: 0.2\n",
      "Learning rate: 0.001\n",
      "Batch size: 64\n",
      "Epochs: 10\n",
      "============================================================\n",
      "Epoch 1/10\n"
     ]
    },
    {
     "name": "stderr",
     "output_type": "stream",
     "text": [
      "C:\\Users\\Aravinthkumar\\AppData\\Roaming\\Python\\Python310\\site-packages\\keras\\src\\layers\\core\\embedding.py:90: UserWarning: Argument `input_length` is deprecated. Just remove it.\n",
      "  warnings.warn(\n"
     ]
    },
    {
     "name": "stdout",
     "output_type": "stream",
     "text": [
      "\u001b[1m143/143\u001b[0m \u001b[32m━━━━━━━━━━━━━━━━━━━━\u001b[0m\u001b[37m\u001b[0m \u001b[1m17s\u001b[0m 82ms/step - f1_score: 0.0572 - loss: 0.4983 - val_f1_score: 0.6532 - val_loss: 0.2766\n",
      "Epoch 2/10\n",
      "\u001b[1m143/143\u001b[0m \u001b[32m━━━━━━━━━━━━━━━━━━━━\u001b[0m\u001b[37m\u001b[0m \u001b[1m11s\u001b[0m 77ms/step - f1_score: 0.7285 - loss: 0.2568 - val_f1_score: 0.6868 - val_loss: 0.2551\n",
      "Epoch 3/10\n",
      "\u001b[1m143/143\u001b[0m \u001b[32m━━━━━━━━━━━━━━━━━━━━\u001b[0m\u001b[37m\u001b[0m \u001b[1m11s\u001b[0m 76ms/step - f1_score: 0.8313 - loss: 0.1782 - val_f1_score: 0.6695 - val_loss: 0.2688\n",
      "Epoch 4/10\n",
      "\u001b[1m143/143\u001b[0m \u001b[32m━━━━━━━━━━━━━━━━━━━━\u001b[0m\u001b[37m\u001b[0m \u001b[1m11s\u001b[0m 76ms/step - f1_score: 0.8609 - loss: 0.1429 - val_f1_score: 0.6860 - val_loss: 0.3042\n",
      "Epoch 5/10\n",
      "\u001b[1m143/143\u001b[0m \u001b[32m━━━━━━━━━━━━━━━━━━━━\u001b[0m\u001b[37m\u001b[0m \u001b[1m11s\u001b[0m 76ms/step - f1_score: 0.9110 - loss: 0.1035 - val_f1_score: 0.6733 - val_loss: 0.3446\n",
      "\u001b[1m72/72\u001b[0m \u001b[32m━━━━━━━━━━━━━━━━━━━━\u001b[0m\u001b[37m\u001b[0m \u001b[1m2s\u001b[0m 26ms/step\n",
      "Evaluation results:\n",
      "F1 Score: 0.6868\n",
      "Precision: 0.7530\n",
      "Recall: 0.6313\n",
      "\n",
      "\n",
      "============================================================\n",
      "Testing parameters:\n",
      "LSTM units: 64\n",
      "Dropout rate: 0.2\n",
      "Learning rate: 0.005\n",
      "Batch size: 32\n",
      "Epochs: 10\n",
      "============================================================\n",
      "Epoch 1/10\n"
     ]
    },
    {
     "name": "stderr",
     "output_type": "stream",
     "text": [
      "C:\\Users\\Aravinthkumar\\AppData\\Roaming\\Python\\Python310\\site-packages\\keras\\src\\layers\\core\\embedding.py:90: UserWarning: Argument `input_length` is deprecated. Just remove it.\n",
      "  warnings.warn(\n"
     ]
    },
    {
     "name": "stdout",
     "output_type": "stream",
     "text": [
      "\u001b[1m285/285\u001b[0m \u001b[32m━━━━━━━━━━━━━━━━━━━━\u001b[0m\u001b[37m\u001b[0m \u001b[1m25s\u001b[0m 68ms/step - f1_score: 0.3349 - loss: 0.4255 - val_f1_score: 0.6507 - val_loss: 0.2679\n",
      "Epoch 2/10\n",
      "\u001b[1m285/285\u001b[0m \u001b[32m━━━━━━━━━━━━━━━━━━━━\u001b[0m\u001b[37m\u001b[0m \u001b[1m19s\u001b[0m 65ms/step - f1_score: 0.7640 - loss: 0.2222 - val_f1_score: 0.6897 - val_loss: 0.2646\n",
      "Epoch 3/10\n",
      "\u001b[1m285/285\u001b[0m \u001b[32m━━━━━━━━━━━━━━━━━━━━\u001b[0m\u001b[37m\u001b[0m \u001b[1m19s\u001b[0m 66ms/step - f1_score: 0.8571 - loss: 0.1482 - val_f1_score: 0.6913 - val_loss: 0.3209\n",
      "Epoch 4/10\n",
      "\u001b[1m285/285\u001b[0m \u001b[32m━━━━━━━━━━━━━━━━━━━━\u001b[0m\u001b[37m\u001b[0m \u001b[1m19s\u001b[0m 66ms/step - f1_score: 0.8942 - loss: 0.1072 - val_f1_score: 0.6469 - val_loss: 0.3564\n",
      "Epoch 5/10\n",
      "\u001b[1m285/285\u001b[0m \u001b[32m━━━━━━━━━━━━━━━━━━━━\u001b[0m\u001b[37m\u001b[0m \u001b[1m19s\u001b[0m 67ms/step - f1_score: 0.9296 - loss: 0.0779 - val_f1_score: 0.6723 - val_loss: 0.4914\n",
      "\u001b[1m72/72\u001b[0m \u001b[32m━━━━━━━━━━━━━━━━━━━━\u001b[0m\u001b[37m\u001b[0m \u001b[1m2s\u001b[0m 27ms/step\n",
      "Evaluation results:\n",
      "F1 Score: 0.6897\n",
      "Precision: 0.7599\n",
      "Recall: 0.6313\n",
      "\n",
      "\n",
      "============================================================\n",
      "Testing parameters:\n",
      "LSTM units: 64\n",
      "Dropout rate: 0.2\n",
      "Learning rate: 0.005\n",
      "Batch size: 64\n",
      "Epochs: 10\n",
      "============================================================\n",
      "Epoch 1/10\n"
     ]
    },
    {
     "name": "stderr",
     "output_type": "stream",
     "text": [
      "C:\\Users\\Aravinthkumar\\AppData\\Roaming\\Python\\Python310\\site-packages\\keras\\src\\layers\\core\\embedding.py:90: UserWarning: Argument `input_length` is deprecated. Just remove it.\n",
      "  warnings.warn(\n"
     ]
    },
    {
     "name": "stdout",
     "output_type": "stream",
     "text": [
      "\u001b[1m143/143\u001b[0m \u001b[32m━━━━━━━━━━━━━━━━━━━━\u001b[0m\u001b[37m\u001b[0m \u001b[1m21s\u001b[0m 106ms/step - f1_score: 0.2625 - loss: 0.4515 - val_f1_score: 0.6518 - val_loss: 0.2614\n",
      "Epoch 2/10\n",
      "\u001b[1m143/143\u001b[0m \u001b[32m━━━━━━━━━━━━━━━━━━━━\u001b[0m\u001b[37m\u001b[0m \u001b[1m19s\u001b[0m 135ms/step - f1_score: 0.8019 - loss: 0.2138 - val_f1_score: 0.6636 - val_loss: 0.2774\n",
      "Epoch 3/10\n",
      "\u001b[1m143/143\u001b[0m \u001b[32m━━━━━━━━━━━━━━━━━━━━\u001b[0m\u001b[37m\u001b[0m \u001b[1m20s\u001b[0m 139ms/step - f1_score: 0.8412 - loss: 0.1539 - val_f1_score: 0.6869 - val_loss: 0.2894\n",
      "Epoch 4/10\n",
      "\u001b[1m143/143\u001b[0m \u001b[32m━━━━━━━━━━━━━━━━━━━━\u001b[0m\u001b[37m\u001b[0m \u001b[1m20s\u001b[0m 137ms/step - f1_score: 0.9087 - loss: 0.1075 - val_f1_score: 0.6789 - val_loss: 0.3500\n",
      "\u001b[1m72/72\u001b[0m \u001b[32m━━━━━━━━━━━━━━━━━━━━\u001b[0m\u001b[37m\u001b[0m \u001b[1m4s\u001b[0m 46ms/step\n",
      "Evaluation results:\n",
      "F1 Score: 0.6518\n",
      "Precision: 0.7935\n",
      "Recall: 0.5530\n",
      "\n",
      "\n",
      "============================================================\n",
      "Testing parameters:\n",
      "LSTM units: 64\n",
      "Dropout rate: 0.3\n",
      "Learning rate: 0.001\n",
      "Batch size: 32\n",
      "Epochs: 10\n",
      "============================================================\n",
      "Epoch 1/10\n"
     ]
    },
    {
     "name": "stderr",
     "output_type": "stream",
     "text": [
      "C:\\Users\\Aravinthkumar\\AppData\\Roaming\\Python\\Python310\\site-packages\\keras\\src\\layers\\core\\embedding.py:90: UserWarning: Argument `input_length` is deprecated. Just remove it.\n",
      "  warnings.warn(\n"
     ]
    },
    {
     "name": "stdout",
     "output_type": "stream",
     "text": [
      "\u001b[1m285/285\u001b[0m \u001b[32m━━━━━━━━━━━━━━━━━━━━\u001b[0m\u001b[37m\u001b[0m \u001b[1m37s\u001b[0m 112ms/step - f1_score: 0.0967 - loss: 0.5065 - val_f1_score: 0.6610 - val_loss: 0.2771\n",
      "Epoch 2/10\n",
      "\u001b[1m285/285\u001b[0m \u001b[32m━━━━━━━━━━━━━━━━━━━━\u001b[0m\u001b[37m\u001b[0m \u001b[1m31s\u001b[0m 108ms/step - f1_score: 0.7308 - loss: 0.2500 - val_f1_score: 0.6667 - val_loss: 0.2555\n",
      "Epoch 3/10\n",
      "\u001b[1m285/285\u001b[0m \u001b[32m━━━━━━━━━━━━━━━━━━━━\u001b[0m\u001b[37m\u001b[0m \u001b[1m31s\u001b[0m 108ms/step - f1_score: 0.8076 - loss: 0.1914 - val_f1_score: 0.6967 - val_loss: 0.2641\n",
      "Epoch 4/10\n",
      "\u001b[1m285/285\u001b[0m \u001b[32m━━━━━━━━━━━━━━━━━━━━\u001b[0m\u001b[37m\u001b[0m \u001b[1m31s\u001b[0m 109ms/step - f1_score: 0.8601 - loss: 0.1478 - val_f1_score: 0.6817 - val_loss: 0.2991\n",
      "Epoch 5/10\n",
      "\u001b[1m285/285\u001b[0m \u001b[32m━━━━━━━━━━━━━━━━━━━━\u001b[0m\u001b[37m\u001b[0m \u001b[1m31s\u001b[0m 109ms/step - f1_score: 0.8790 - loss: 0.1256 - val_f1_score: 0.6767 - val_loss: 0.3567\n",
      "\u001b[1m72/72\u001b[0m \u001b[32m━━━━━━━━━━━━━━━━━━━━\u001b[0m\u001b[37m\u001b[0m \u001b[1m4s\u001b[0m 45ms/step\n",
      "Evaluation results:\n",
      "F1 Score: 0.6667\n",
      "Precision: 0.7778\n",
      "Recall: 0.5833\n",
      "\n",
      "\n",
      "============================================================\n",
      "Testing parameters:\n",
      "LSTM units: 64\n",
      "Dropout rate: 0.3\n",
      "Learning rate: 0.001\n",
      "Batch size: 64\n",
      "Epochs: 10\n",
      "============================================================\n",
      "Epoch 1/10\n"
     ]
    },
    {
     "name": "stderr",
     "output_type": "stream",
     "text": [
      "C:\\Users\\Aravinthkumar\\AppData\\Roaming\\Python\\Python310\\site-packages\\keras\\src\\layers\\core\\embedding.py:90: UserWarning: Argument `input_length` is deprecated. Just remove it.\n",
      "  warnings.warn(\n"
     ]
    },
    {
     "name": "stdout",
     "output_type": "stream",
     "text": [
      "\u001b[1m143/143\u001b[0m \u001b[32m━━━━━━━━━━━━━━━━━━━━\u001b[0m\u001b[37m\u001b[0m \u001b[1m25s\u001b[0m 140ms/step - f1_score: 0.0289 - loss: 0.5116 - val_f1_score: 0.6667 - val_loss: 0.2884\n",
      "Epoch 2/10\n",
      "\u001b[1m143/143\u001b[0m \u001b[32m━━━━━━━━━━━━━━━━━━━━\u001b[0m\u001b[37m\u001b[0m \u001b[1m19s\u001b[0m 135ms/step - f1_score: 0.7051 - loss: 0.2830 - val_f1_score: 0.6782 - val_loss: 0.2578\n",
      "Epoch 3/10\n",
      "\u001b[1m143/143\u001b[0m \u001b[32m━━━━━━━━━━━━━━━━━━━━\u001b[0m\u001b[37m\u001b[0m \u001b[1m19s\u001b[0m 134ms/step - f1_score: 0.7931 - loss: 0.2042 - val_f1_score: 0.6963 - val_loss: 0.2630\n",
      "Epoch 4/10\n",
      "\u001b[1m143/143\u001b[0m \u001b[32m━━━━━━━━━━━━━━━━━━━━\u001b[0m\u001b[37m\u001b[0m \u001b[1m19s\u001b[0m 135ms/step - f1_score: 0.8434 - loss: 0.1567 - val_f1_score: 0.6806 - val_loss: 0.2908\n",
      "Epoch 5/10\n",
      "\u001b[1m143/143\u001b[0m \u001b[32m━━━━━━━━━━━━━━━━━━━━\u001b[0m\u001b[37m\u001b[0m \u001b[1m19s\u001b[0m 134ms/step - f1_score: 0.8840 - loss: 0.1286 - val_f1_score: 0.6757 - val_loss: 0.3124\n",
      "\u001b[1m72/72\u001b[0m \u001b[32m━━━━━━━━━━━━━━━━━━━━\u001b[0m\u001b[37m\u001b[0m \u001b[1m4s\u001b[0m 43ms/step\n",
      "Evaluation results:\n",
      "F1 Score: 0.6782\n",
      "Precision: 0.7867\n",
      "Recall: 0.5960\n",
      "\n",
      "\n",
      "============================================================\n",
      "Testing parameters:\n",
      "LSTM units: 64\n",
      "Dropout rate: 0.3\n",
      "Learning rate: 0.005\n",
      "Batch size: 32\n",
      "Epochs: 10\n",
      "============================================================\n",
      "Epoch 1/10\n"
     ]
    },
    {
     "name": "stderr",
     "output_type": "stream",
     "text": [
      "C:\\Users\\Aravinthkumar\\AppData\\Roaming\\Python\\Python310\\site-packages\\keras\\src\\layers\\core\\embedding.py:90: UserWarning: Argument `input_length` is deprecated. Just remove it.\n",
      "  warnings.warn(\n"
     ]
    },
    {
     "name": "stdout",
     "output_type": "stream",
     "text": [
      "\u001b[1m285/285\u001b[0m \u001b[32m━━━━━━━━━━━━━━━━━━━━\u001b[0m\u001b[37m\u001b[0m \u001b[1m39s\u001b[0m 118ms/step - f1_score: 0.2935 - loss: 0.4448 - val_f1_score: 0.6619 - val_loss: 0.2744\n",
      "Epoch 2/10\n",
      "\u001b[1m285/285\u001b[0m \u001b[32m━━━━━━━━━━━━━━━━━━━━\u001b[0m\u001b[37m\u001b[0m \u001b[1m33s\u001b[0m 115ms/step - f1_score: 0.7613 - loss: 0.2388 - val_f1_score: 0.6800 - val_loss: 0.2850\n",
      "Epoch 3/10\n",
      "\u001b[1m285/285\u001b[0m \u001b[32m━━━━━━━━━━━━━━━━━━━━\u001b[0m\u001b[37m\u001b[0m \u001b[1m33s\u001b[0m 115ms/step - f1_score: 0.8300 - loss: 0.1789 - val_f1_score: 0.6788 - val_loss: 0.3004\n",
      "Epoch 4/10\n",
      "\u001b[1m285/285\u001b[0m \u001b[32m━━━━━━━━━━━━━━━━━━━━\u001b[0m\u001b[37m\u001b[0m \u001b[1m33s\u001b[0m 115ms/step - f1_score: 0.8823 - loss: 0.1273 - val_f1_score: 0.6911 - val_loss: 0.3286\n",
      "\u001b[1m72/72\u001b[0m \u001b[32m━━━━━━━━━━━━━━━━━━━━\u001b[0m\u001b[37m\u001b[0m \u001b[1m4s\u001b[0m 46ms/step\n",
      "Evaluation results:\n",
      "F1 Score: 0.6619\n",
      "Precision: 0.7565\n",
      "Recall: 0.5884\n",
      "\n",
      "\n",
      "============================================================\n",
      "Testing parameters:\n",
      "LSTM units: 64\n",
      "Dropout rate: 0.3\n",
      "Learning rate: 0.005\n",
      "Batch size: 64\n",
      "Epochs: 10\n",
      "============================================================\n",
      "Epoch 1/10\n"
     ]
    },
    {
     "name": "stderr",
     "output_type": "stream",
     "text": [
      "C:\\Users\\Aravinthkumar\\AppData\\Roaming\\Python\\Python310\\site-packages\\keras\\src\\layers\\core\\embedding.py:90: UserWarning: Argument `input_length` is deprecated. Just remove it.\n",
      "  warnings.warn(\n"
     ]
    },
    {
     "name": "stdout",
     "output_type": "stream",
     "text": [
      "\u001b[1m143/143\u001b[0m \u001b[32m━━━━━━━━━━━━━━━━━━━━\u001b[0m\u001b[37m\u001b[0m \u001b[1m25s\u001b[0m 140ms/step - f1_score: 0.2741 - loss: 0.4589 - val_f1_score: 0.6522 - val_loss: 0.2640\n",
      "Epoch 2/10\n",
      "\u001b[1m143/143\u001b[0m \u001b[32m━━━━━━━━━━━━━━━━━━━━\u001b[0m\u001b[37m\u001b[0m \u001b[1m20s\u001b[0m 136ms/step - f1_score: 0.7519 - loss: 0.2401 - val_f1_score: 0.6967 - val_loss: 0.2533\n",
      "Epoch 3/10\n",
      "\u001b[1m143/143\u001b[0m \u001b[32m━━━━━━━━━━━━━━━━━━━━\u001b[0m\u001b[37m\u001b[0m \u001b[1m19s\u001b[0m 136ms/step - f1_score: 0.8112 - loss: 0.1783 - val_f1_score: 0.6910 - val_loss: 0.2814\n",
      "Epoch 4/10\n",
      "\u001b[1m143/143\u001b[0m \u001b[32m━━━━━━━━━━━━━━━━━━━━\u001b[0m\u001b[37m\u001b[0m \u001b[1m19s\u001b[0m 136ms/step - f1_score: 0.8863 - loss: 0.1303 - val_f1_score: 0.6789 - val_loss: 0.3469\n",
      "Epoch 5/10\n",
      "\u001b[1m143/143\u001b[0m \u001b[32m━━━━━━━━━━━━━━━━━━━━\u001b[0m\u001b[37m\u001b[0m \u001b[1m19s\u001b[0m 136ms/step - f1_score: 0.9059 - loss: 0.1076 - val_f1_score: 0.6786 - val_loss: 0.3474\n",
      "\u001b[1m72/72\u001b[0m \u001b[32m━━━━━━━━━━━━━━━━━━━━\u001b[0m\u001b[37m\u001b[0m \u001b[1m4s\u001b[0m 44ms/step\n",
      "Evaluation results:\n",
      "F1 Score: 0.6967\n",
      "Precision: 0.8191\n",
      "Recall: 0.6061\n",
      "\n",
      "\n",
      "============================================================\n",
      "Testing parameters:\n",
      "LSTM units: 128\n",
      "Dropout rate: 0.2\n",
      "Learning rate: 0.001\n",
      "Batch size: 32\n",
      "Epochs: 10\n",
      "============================================================\n",
      "Epoch 1/10\n"
     ]
    },
    {
     "name": "stderr",
     "output_type": "stream",
     "text": [
      "C:\\Users\\Aravinthkumar\\AppData\\Roaming\\Python\\Python310\\site-packages\\keras\\src\\layers\\core\\embedding.py:90: UserWarning: Argument `input_length` is deprecated. Just remove it.\n",
      "  warnings.warn(\n"
     ]
    },
    {
     "name": "stdout",
     "output_type": "stream",
     "text": [
      "\u001b[1m285/285\u001b[0m \u001b[32m━━━━━━━━━━━━━━━━━━━━\u001b[0m\u001b[37m\u001b[0m \u001b[1m49s\u001b[0m 152ms/step - f1_score: 0.2276 - loss: 0.4585 - val_f1_score: 0.6262 - val_loss: 0.2848\n",
      "Epoch 2/10\n",
      "\u001b[1m285/285\u001b[0m \u001b[32m━━━━━━━━━━━━━━━━━━━━\u001b[0m\u001b[37m\u001b[0m \u001b[1m42s\u001b[0m 149ms/step - f1_score: 0.7674 - loss: 0.2299 - val_f1_score: 0.6984 - val_loss: 0.2563\n",
      "Epoch 3/10\n",
      "\u001b[1m285/285\u001b[0m \u001b[32m━━━━━━━━━━━━━━━━━━━━\u001b[0m\u001b[37m\u001b[0m \u001b[1m43s\u001b[0m 149ms/step - f1_score: 0.8469 - loss: 0.1618 - val_f1_score: 0.6733 - val_loss: 0.2703\n",
      "Epoch 4/10\n",
      "\u001b[1m285/285\u001b[0m \u001b[32m━━━━━━━━━━━━━━━━━━━━\u001b[0m\u001b[37m\u001b[0m \u001b[1m43s\u001b[0m 149ms/step - f1_score: 0.8907 - loss: 0.1164 - val_f1_score: 0.6695 - val_loss: 0.2946\n",
      "Epoch 5/10\n",
      "\u001b[1m285/285\u001b[0m \u001b[32m━━━━━━━━━━━━━━━━━━━━\u001b[0m\u001b[37m\u001b[0m \u001b[1m43s\u001b[0m 150ms/step - f1_score: 0.9221 - loss: 0.0896 - val_f1_score: 0.6760 - val_loss: 0.3514\n",
      "\u001b[1m72/72\u001b[0m \u001b[32m━━━━━━━━━━━━━━━━━━━━\u001b[0m\u001b[37m\u001b[0m \u001b[1m6s\u001b[0m 73ms/step\n",
      "Evaluation results:\n",
      "F1 Score: 0.6984\n",
      "Precision: 0.7559\n",
      "Recall: 0.6490\n",
      "\n",
      "Best model updated!\n",
      "\n",
      "============================================================\n",
      "Testing parameters:\n",
      "LSTM units: 128\n",
      "Dropout rate: 0.2\n",
      "Learning rate: 0.001\n",
      "Batch size: 64\n",
      "Epochs: 10\n",
      "============================================================\n",
      "Epoch 1/10\n"
     ]
    },
    {
     "name": "stderr",
     "output_type": "stream",
     "text": [
      "C:\\Users\\Aravinthkumar\\AppData\\Roaming\\Python\\Python310\\site-packages\\keras\\src\\layers\\core\\embedding.py:90: UserWarning: Argument `input_length` is deprecated. Just remove it.\n",
      "  warnings.warn(\n"
     ]
    },
    {
     "name": "stdout",
     "output_type": "stream",
     "text": [
      "\u001b[1m143/143\u001b[0m \u001b[32m━━━━━━━━━━━━━━━━━━━━\u001b[0m\u001b[37m\u001b[0m \u001b[1m62s\u001b[0m 393ms/step - f1_score: 0.1007 - loss: 0.5052 - val_f1_score: 0.6436 - val_loss: 0.2768\n",
      "Epoch 2/10\n",
      "\u001b[1m143/143\u001b[0m \u001b[32m━━━━━━━━━━━━━━━━━━━━\u001b[0m\u001b[37m\u001b[0m \u001b[1m55s\u001b[0m 385ms/step - f1_score: 0.7408 - loss: 0.2455 - val_f1_score: 0.6923 - val_loss: 0.2632\n",
      "Epoch 3/10\n",
      "\u001b[1m143/143\u001b[0m \u001b[32m━━━━━━━━━━━━━━━━━━━━\u001b[0m\u001b[37m\u001b[0m \u001b[1m55s\u001b[0m 385ms/step - f1_score: 0.8322 - loss: 0.1753 - val_f1_score: 0.6769 - val_loss: 0.2776\n",
      "Epoch 4/10\n",
      "\u001b[1m143/143\u001b[0m \u001b[32m━━━━━━━━━━━━━━━━━━━━\u001b[0m\u001b[37m\u001b[0m \u001b[1m55s\u001b[0m 385ms/step - f1_score: 0.8704 - loss: 0.1386 - val_f1_score: 0.6749 - val_loss: 0.3045\n",
      "Epoch 5/10\n",
      "\u001b[1m143/143\u001b[0m \u001b[32m━━━━━━━━━━━━━━━━━━━━\u001b[0m\u001b[37m\u001b[0m \u001b[1m55s\u001b[0m 385ms/step - f1_score: 0.9094 - loss: 0.1061 - val_f1_score: 0.6739 - val_loss: 0.3479\n",
      "\u001b[1m72/72\u001b[0m \u001b[32m━━━━━━━━━━━━━━━━━━━━\u001b[0m\u001b[37m\u001b[0m \u001b[1m7s\u001b[0m 97ms/step\n",
      "Evaluation results:\n",
      "F1 Score: 0.6923\n",
      "Precision: 0.7291\n",
      "Recall: 0.6591\n",
      "\n",
      "\n",
      "============================================================\n",
      "Testing parameters:\n",
      "LSTM units: 128\n",
      "Dropout rate: 0.2\n",
      "Learning rate: 0.005\n",
      "Batch size: 32\n",
      "Epochs: 10\n",
      "============================================================\n",
      "Epoch 1/10\n"
     ]
    },
    {
     "name": "stderr",
     "output_type": "stream",
     "text": [
      "C:\\Users\\Aravinthkumar\\AppData\\Roaming\\Python\\Python310\\site-packages\\keras\\src\\layers\\core\\embedding.py:90: UserWarning: Argument `input_length` is deprecated. Just remove it.\n",
      "  warnings.warn(\n"
     ]
    },
    {
     "name": "stdout",
     "output_type": "stream",
     "text": [
      "\u001b[1m285/285\u001b[0m \u001b[32m━━━━━━━━━━━━━━━━━━━━\u001b[0m\u001b[37m\u001b[0m \u001b[1m54s\u001b[0m 169ms/step - f1_score: 0.3590 - loss: 0.4306 - val_f1_score: 0.6851 - val_loss: 0.2796\n",
      "Epoch 2/10\n",
      "\u001b[1m285/285\u001b[0m \u001b[32m━━━━━━━━━━━━━━━━━━━━\u001b[0m\u001b[37m\u001b[0m \u001b[1m48s\u001b[0m 167ms/step - f1_score: 0.7692 - loss: 0.2265 - val_f1_score: 0.6717 - val_loss: 0.2634\n",
      "Epoch 3/10\n",
      "\u001b[1m285/285\u001b[0m \u001b[32m━━━━━━━━━━━━━━━━━━━━\u001b[0m\u001b[37m\u001b[0m \u001b[1m48s\u001b[0m 168ms/step - f1_score: 0.8637 - loss: 0.1494 - val_f1_score: 0.6693 - val_loss: 0.3310\n",
      "Epoch 4/10\n",
      "\u001b[1m285/285\u001b[0m \u001b[32m━━━━━━━━━━━━━━━━━━━━\u001b[0m\u001b[37m\u001b[0m \u001b[1m48s\u001b[0m 168ms/step - f1_score: 0.9013 - loss: 0.1032 - val_f1_score: 0.6791 - val_loss: 0.3208\n",
      "Epoch 5/10\n",
      "\u001b[1m285/285\u001b[0m \u001b[32m━━━━━━━━━━━━━━━━━━━━\u001b[0m\u001b[37m\u001b[0m \u001b[1m48s\u001b[0m 168ms/step - f1_score: 0.9211 - loss: 0.0739 - val_f1_score: 0.6750 - val_loss: 0.4301\n",
      "\u001b[1m72/72\u001b[0m \u001b[32m━━━━━━━━━━━━━━━━━━━━\u001b[0m\u001b[37m\u001b[0m \u001b[1m7s\u001b[0m 93ms/step\n",
      "Evaluation results:\n",
      "F1 Score: 0.6717\n",
      "Precision: 0.8266\n",
      "Recall: 0.5657\n",
      "\n",
      "\n",
      "============================================================\n",
      "Testing parameters:\n",
      "LSTM units: 128\n",
      "Dropout rate: 0.2\n",
      "Learning rate: 0.005\n",
      "Batch size: 64\n",
      "Epochs: 10\n",
      "============================================================\n",
      "Epoch 1/10\n"
     ]
    },
    {
     "name": "stderr",
     "output_type": "stream",
     "text": [
      "C:\\Users\\Aravinthkumar\\AppData\\Roaming\\Python\\Python310\\site-packages\\keras\\src\\layers\\core\\embedding.py:90: UserWarning: Argument `input_length` is deprecated. Just remove it.\n",
      "  warnings.warn(\n"
     ]
    },
    {
     "name": "stdout",
     "output_type": "stream",
     "text": [
      "\u001b[1m143/143\u001b[0m \u001b[32m━━━━━━━━━━━━━━━━━━━━\u001b[0m\u001b[37m\u001b[0m \u001b[1m58s\u001b[0m 369ms/step - f1_score: 0.2980 - loss: 0.4365 - val_f1_score: 0.6879 - val_loss: 0.2601\n",
      "Epoch 2/10\n",
      "\u001b[1m143/143\u001b[0m \u001b[32m━━━━━━━━━━━━━━━━━━━━\u001b[0m\u001b[37m\u001b[0m \u001b[1m53s\u001b[0m 373ms/step - f1_score: 0.7927 - loss: 0.2091 - val_f1_score: 0.6694 - val_loss: 0.2734\n",
      "Epoch 3/10\n",
      "\u001b[1m143/143\u001b[0m \u001b[32m━━━━━━━━━━━━━━━━━━━━\u001b[0m\u001b[37m\u001b[0m \u001b[1m53s\u001b[0m 372ms/step - f1_score: 0.8482 - loss: 0.1513 - val_f1_score: 0.6575 - val_loss: 0.3159\n",
      "Epoch 4/10\n",
      "\u001b[1m143/143\u001b[0m \u001b[32m━━━━━━━━━━━━━━━━━━━━\u001b[0m\u001b[37m\u001b[0m \u001b[1m53s\u001b[0m 373ms/step - f1_score: 0.9005 - loss: 0.1074 - val_f1_score: 0.6692 - val_loss: 0.3614\n",
      "\u001b[1m72/72\u001b[0m \u001b[32m━━━━━━━━━━━━━━━━━━━━\u001b[0m\u001b[37m\u001b[0m \u001b[1m7s\u001b[0m 94ms/step\n",
      "Evaluation results:\n",
      "F1 Score: 0.6879\n",
      "Precision: 0.7631\n",
      "Recall: 0.6263\n",
      "\n",
      "\n",
      "============================================================\n",
      "Testing parameters:\n",
      "LSTM units: 128\n",
      "Dropout rate: 0.3\n",
      "Learning rate: 0.001\n",
      "Batch size: 32\n",
      "Epochs: 10\n",
      "============================================================\n",
      "Epoch 1/10\n"
     ]
    },
    {
     "name": "stderr",
     "output_type": "stream",
     "text": [
      "C:\\Users\\Aravinthkumar\\AppData\\Roaming\\Python\\Python310\\site-packages\\keras\\src\\layers\\core\\embedding.py:90: UserWarning: Argument `input_length` is deprecated. Just remove it.\n",
      "  warnings.warn(\n"
     ]
    },
    {
     "name": "stdout",
     "output_type": "stream",
     "text": [
      "\u001b[1m285/285\u001b[0m \u001b[32m━━━━━━━━━━━━━━━━━━━━\u001b[0m\u001b[37m\u001b[0m \u001b[1m53s\u001b[0m 166ms/step - f1_score: 0.1228 - loss: 0.4704 - val_f1_score: 0.6244 - val_loss: 0.2741\n",
      "Epoch 2/10\n",
      "\u001b[1m285/285\u001b[0m \u001b[32m━━━━━━━━━━━━━━━━━━━━\u001b[0m\u001b[37m\u001b[0m \u001b[1m43s\u001b[0m 150ms/step - f1_score: 0.7363 - loss: 0.2416 - val_f1_score: 0.6686 - val_loss: 0.2744\n",
      "Epoch 3/10\n",
      "\u001b[1m285/285\u001b[0m \u001b[32m━━━━━━━━━━━━━━━━━━━━\u001b[0m\u001b[37m\u001b[0m \u001b[1m43s\u001b[0m 150ms/step - f1_score: 0.8186 - loss: 0.1878 - val_f1_score: 0.6882 - val_loss: 0.2823\n",
      "Epoch 4/10\n",
      "\u001b[1m285/285\u001b[0m \u001b[32m━━━━━━━━━━━━━━━━━━━━\u001b[0m\u001b[37m\u001b[0m \u001b[1m43s\u001b[0m 150ms/step - f1_score: 0.8592 - loss: 0.1486 - val_f1_score: 0.6735 - val_loss: 0.3021\n",
      "\u001b[1m72/72\u001b[0m \u001b[32m━━━━━━━━━━━━━━━━━━━━\u001b[0m\u001b[37m\u001b[0m \u001b[1m6s\u001b[0m 83ms/step\n",
      "Evaluation results:\n",
      "F1 Score: 0.6244\n",
      "Precision: 0.8048\n",
      "Recall: 0.5101\n",
      "\n",
      "\n",
      "============================================================\n",
      "Testing parameters:\n",
      "LSTM units: 128\n",
      "Dropout rate: 0.3\n",
      "Learning rate: 0.001\n",
      "Batch size: 64\n",
      "Epochs: 10\n",
      "============================================================\n",
      "Epoch 1/10\n"
     ]
    },
    {
     "name": "stderr",
     "output_type": "stream",
     "text": [
      "C:\\Users\\Aravinthkumar\\AppData\\Roaming\\Python\\Python310\\site-packages\\keras\\src\\layers\\core\\embedding.py:90: UserWarning: Argument `input_length` is deprecated. Just remove it.\n",
      "  warnings.warn(\n"
     ]
    },
    {
     "name": "stdout",
     "output_type": "stream",
     "text": [
      "\u001b[1m143/143\u001b[0m \u001b[32m━━━━━━━━━━━━━━━━━━━━\u001b[0m\u001b[37m\u001b[0m \u001b[1m55s\u001b[0m 348ms/step - f1_score: 0.0975 - loss: 0.5103 - val_f1_score: 0.6538 - val_loss: 0.2705\n",
      "Epoch 2/10\n",
      "\u001b[1m143/143\u001b[0m \u001b[32m━━━━━━━━━━━━━━━━━━━━\u001b[0m\u001b[37m\u001b[0m \u001b[1m48s\u001b[0m 335ms/step - f1_score: 0.7266 - loss: 0.2512 - val_f1_score: 0.7146 - val_loss: 0.2623\n",
      "Epoch 3/10\n",
      "\u001b[1m143/143\u001b[0m \u001b[32m━━━━━━━━━━━━━━━━━━━━\u001b[0m\u001b[37m\u001b[0m \u001b[1m47s\u001b[0m 329ms/step - f1_score: 0.8179 - loss: 0.1799 - val_f1_score: 0.6939 - val_loss: 0.2650\n",
      "Epoch 4/10\n",
      "\u001b[1m143/143\u001b[0m \u001b[32m━━━━━━━━━━━━━━━━━━━━\u001b[0m\u001b[37m\u001b[0m \u001b[1m47s\u001b[0m 329ms/step - f1_score: 0.8651 - loss: 0.1535 - val_f1_score: 0.6695 - val_loss: 0.3083\n",
      "Epoch 5/10\n",
      "\u001b[1m143/143\u001b[0m \u001b[32m━━━━━━━━━━━━━━━━━━━━\u001b[0m\u001b[37m\u001b[0m \u001b[1m47s\u001b[0m 330ms/step - f1_score: 0.8879 - loss: 0.1209 - val_f1_score: 0.6702 - val_loss: 0.3179\n",
      "\u001b[1m72/72\u001b[0m \u001b[32m━━━━━━━━━━━━━━━━━━━━\u001b[0m\u001b[37m\u001b[0m \u001b[1m6s\u001b[0m 79ms/step\n",
      "Evaluation results:\n",
      "F1 Score: 0.7146\n",
      "Precision: 0.7146\n",
      "Recall: 0.7146\n",
      "\n",
      "Best model updated!\n",
      "\n",
      "============================================================\n",
      "Testing parameters:\n",
      "LSTM units: 128\n",
      "Dropout rate: 0.3\n",
      "Learning rate: 0.005\n",
      "Batch size: 32\n",
      "Epochs: 10\n",
      "============================================================\n",
      "Epoch 1/10\n"
     ]
    },
    {
     "name": "stderr",
     "output_type": "stream",
     "text": [
      "C:\\Users\\Aravinthkumar\\AppData\\Roaming\\Python\\Python310\\site-packages\\keras\\src\\layers\\core\\embedding.py:90: UserWarning: Argument `input_length` is deprecated. Just remove it.\n",
      "  warnings.warn(\n"
     ]
    },
    {
     "name": "stdout",
     "output_type": "stream",
     "text": [
      "\u001b[1m285/285\u001b[0m \u001b[32m━━━━━━━━━━━━━━━━━━━━\u001b[0m\u001b[37m\u001b[0m \u001b[1m42s\u001b[0m 128ms/step - f1_score: 0.2813 - loss: 0.4516 - val_f1_score: 0.5565 - val_loss: 0.2864\n",
      "Epoch 2/10\n",
      "\u001b[1m285/285\u001b[0m \u001b[32m━━━━━━━━━━━━━━━━━━━━\u001b[0m\u001b[37m\u001b[0m \u001b[1m36s\u001b[0m 126ms/step - f1_score: 0.6980 - loss: 0.2801 - val_f1_score: 0.6950 - val_loss: 0.2998\n",
      "Epoch 3/10\n",
      "\u001b[1m285/285\u001b[0m \u001b[32m━━━━━━━━━━━━━━━━━━━━\u001b[0m\u001b[37m\u001b[0m \u001b[1m36s\u001b[0m 127ms/step - f1_score: 0.7911 - loss: 0.2110 - val_f1_score: 0.6401 - val_loss: 0.2735\n",
      "Epoch 4/10\n",
      "\u001b[1m285/285\u001b[0m \u001b[32m━━━━━━━━━━━━━━━━━━━━\u001b[0m\u001b[37m\u001b[0m \u001b[1m35s\u001b[0m 124ms/step - f1_score: 0.8392 - loss: 0.1784 - val_f1_score: 0.6477 - val_loss: 0.3184\n",
      "Epoch 5/10\n",
      "\u001b[1m285/285\u001b[0m \u001b[32m━━━━━━━━━━━━━━━━━━━━\u001b[0m\u001b[37m\u001b[0m \u001b[1m36s\u001b[0m 126ms/step - f1_score: 0.8514 - loss: 0.1518 - val_f1_score: 0.6826 - val_loss: 0.3340\n",
      "Epoch 6/10\n",
      "\u001b[1m285/285\u001b[0m \u001b[32m━━━━━━━━━━━━━━━━━━━━\u001b[0m\u001b[37m\u001b[0m \u001b[1m36s\u001b[0m 126ms/step - f1_score: 0.9041 - loss: 0.1134 - val_f1_score: 0.6722 - val_loss: 0.3541\n",
      "\u001b[1m72/72\u001b[0m \u001b[32m━━━━━━━━━━━━━━━━━━━━\u001b[0m\u001b[37m\u001b[0m \u001b[1m6s\u001b[0m 76ms/step\n",
      "Evaluation results:\n",
      "F1 Score: 0.6401\n",
      "Precision: 0.8132\n",
      "Recall: 0.5278\n",
      "\n",
      "\n",
      "============================================================\n",
      "Testing parameters:\n",
      "LSTM units: 128\n",
      "Dropout rate: 0.3\n",
      "Learning rate: 0.005\n",
      "Batch size: 64\n",
      "Epochs: 10\n",
      "============================================================\n",
      "Epoch 1/10\n"
     ]
    },
    {
     "name": "stderr",
     "output_type": "stream",
     "text": [
      "C:\\Users\\Aravinthkumar\\AppData\\Roaming\\Python\\Python310\\site-packages\\keras\\src\\layers\\core\\embedding.py:90: UserWarning: Argument `input_length` is deprecated. Just remove it.\n",
      "  warnings.warn(\n"
     ]
    },
    {
     "name": "stdout",
     "output_type": "stream",
     "text": [
      "\u001b[1m143/143\u001b[0m \u001b[32m━━━━━━━━━━━━━━━━━━━━\u001b[0m\u001b[37m\u001b[0m \u001b[1m60s\u001b[0m 374ms/step - f1_score: 0.2475 - loss: 0.4664 - val_f1_score: 0.6441 - val_loss: 0.2670\n",
      "Epoch 2/10\n",
      "\u001b[1m143/143\u001b[0m \u001b[32m━━━━━━━━━━━━━━━━━━━━\u001b[0m\u001b[37m\u001b[0m \u001b[1m52s\u001b[0m 365ms/step - f1_score: 0.7418 - loss: 0.2561 - val_f1_score: 0.6881 - val_loss: 0.2731\n",
      "Epoch 3/10\n",
      "\u001b[1m143/143\u001b[0m \u001b[32m━━━━━━━━━━━━━━━━━━━━\u001b[0m\u001b[37m\u001b[0m \u001b[1m52s\u001b[0m 366ms/step - f1_score: 0.8286 - loss: 0.1815 - val_f1_score: 0.6866 - val_loss: 0.3289\n",
      "Epoch 4/10\n",
      "\u001b[1m143/143\u001b[0m \u001b[32m━━━━━━━━━━━━━━━━━━━━\u001b[0m\u001b[37m\u001b[0m \u001b[1m52s\u001b[0m 367ms/step - f1_score: 0.8577 - loss: 0.1367 - val_f1_score: 0.6764 - val_loss: 0.3388\n",
      "\u001b[1m72/72\u001b[0m \u001b[32m━━━━━━━━━━━━━━━━━━━━\u001b[0m\u001b[37m\u001b[0m \u001b[1m7s\u001b[0m 91ms/step\n",
      "Evaluation results:\n",
      "F1 Score: 0.6441\n",
      "Precision: 0.8261\n",
      "Recall: 0.5278\n",
      "\n",
      "\u001b[1m72/72\u001b[0m \u001b[32m━━━━━━━━━━━━━━━━━━━━\u001b[0m\u001b[37m\u001b[0m \u001b[1m6s\u001b[0m 83ms/step\n",
      "\n",
      "Tuned Model Evaluation:\n",
      "Accuracy: 0.9006\n",
      "Precision: 0.7146\n",
      "Recall: 0.7146\n",
      "F1 Score: 0.7146\n",
      "\n",
      "Best Hyperparameters:\n",
      "{'lstm_units': 128, 'dropout_rate': 0.3, 'learning_rate': 0.001, 'batch_size': 64, 'epochs': 10}\n"
     ]
    },
    {
     "data": {
      "image/png": "[encoded data removed]",
      "text/plain": [
       "<Figure size 800x600 with 1 Axes>"
      ]
     },
     "metadata": {},
     "output_type": "display_data"
    }
   ],
   "source": [
    "def tune_hyperparameters(X_train, y_train, X_test, y_test):\n",
    "    param_grid = {\n",
    "        'lstm_units': [32, 64, 128],\n",
    "        'dropout_rate': [0.2, 0.3],\n",
    "        'learning_rate': [0.001, 0.005],\n",
    "        'batch_size': [32, 64],\n",
    "        'epochs': [10]\n",
    "    }\n",
    "    \n",
    "    best_model = None\n",
    "    best_f1_score = 0\n",
    "    best_params = None\n",
    "    best_history = None  # To store the history of the best model\n",
    "\n",
    "    for lstm_units in param_grid['lstm_units']:\n",
    "        for dropout_rate in param_grid['dropout_rate']:\n",
    "            for learning_rate in param_grid['learning_rate']:\n",
    "                for batch_size in param_grid['batch_size']:\n",
    "                    for epochs in param_grid['epochs']:\n",
    "                        print(\"\\n\" + \"=\"*60)\n",
    "                        print(f\"Testing parameters:\\nLSTM units: {lstm_units}\\nDropout rate: {dropout_rate}\\nLearning rate: {learning_rate}\\nBatch size: {batch_size}\\nEpochs: {epochs}\")\n",
    "                        print(\"=\"*60)\n",
    "\n",
    "                        model = create_lstm_model(lstm_units, dropout_rate, learning_rate)\n",
    "                        \n",
    "                        history = model.fit(\n",
    "                            X_train, y_train,\n",
    "                            validation_data=(X_test, y_test),\n",
    "                            epochs=epochs,\n",
    "                            batch_size=batch_size,\n",
    "                            callbacks=[EarlyStopping(monitor='val_loss', patience=3, restore_best_weights=True)]\n",
    "                        )\n",
    "                        \n",
    "                        # Evaluate the model\n",
    "                        y_pred_probs = model.predict(X_test)\n",
    "                        y_pred = (y_pred_probs > 0.5).astype(int)\n",
    "                        \n",
    "                        # Calculate F1 score\n",
    "                        precision, recall, f1, _ = precision_recall_fscore_support(y_test, y_pred, average='binary')\n",
    "                        \n",
    "                        print(f\"Evaluation results:\\nF1 Score: {f1:.4f}\\nPrecision: {precision:.4f}\\nRecall: {recall:.4f}\\n\")\n",
    "                        \n",
    "                        if f1 > best_f1_score:\n",
    "                            best_f1_score = f1\n",
    "                            best_model = model\n",
    "                            best_params = {\n",
    "                                'lstm_units': lstm_units,\n",
    "                                'dropout_rate': dropout_rate,\n",
    "                                'learning_rate': learning_rate,\n",
    "                                'batch_size': batch_size,\n",
    "                                'epochs': epochs\n",
    "                            }\n",
    "                            best_history = history  # Store the history of the best model\n",
    "                            print(\"Best model updated!\")\n",
    "                            \n",
    "    return best_model, best_params, best_history\n",
    "\n",
    "def plot_model_performance(history):\n",
    "    # Extracting the training and validation loss from the history object\n",
    "    train_loss = history.history['loss']\n",
    "    val_loss = history.history['val_loss']\n",
    "\n",
    "    # Plotting the loss\n",
    "    plt.figure(figsize=(12, 6))\n",
    "\n",
    "    # Plot Training vs Validation Loss\n",
    "    plt.subplot(1, 2, 1)\n",
    "    plt.plot(train_loss, label='Training Loss')\n",
    "    plt.plot(val_loss, label='Validation Loss')\n",
    "    plt.title('Training vs Validation Loss')\n",
    "    plt.xlabel('Epochs')\n",
    "    plt.ylabel('Loss')\n",
    "    plt.legend()\n",
    "\n",
    "    # Plot F1 Score\n",
    "    f1_score = history.history.get('f1_score', [])\n",
    "    val_f1_score = history.history.get('val_f1_score', [])\n",
    "    epochs = range(1, len(f1_score) + 1)\n",
    "\n",
    "    plt.subplot(1, 2, 2)\n",
    "    plt.plot(epochs, f1_score, label='Training F1 Score')\n",
    "    if val_f1_score:\n",
    "        plt.plot(epochs, val_f1_score, label='Validation F1 Score')\n",
    "    plt.title('Training vs Validation F1 Score')\n",
    "    plt.xlabel('Epochs')\n",
    "    plt.ylabel('F1 Score')\n",
    "    plt.legend()\n",
    "\n",
    "    plt.tight_layout()\n",
    "    plt.show()\n",
    "\n",
    "# Perform hyperparameter tuning\n",
    "best_model, best_params, best_history = tune_hyperparameters(X_train_pad, y_train, X_test_pad, y_test)\n",
    "\n",
    "# Evaluate the best model\n",
    "y_pred_probs = best_model.predict(X_test_pad)\n",
    "y_pred = (y_pred_probs > 0.5).astype(int)\n",
    "accuracy = accuracy_score(y_test, y_pred)\n",
    "precision, recall, f1, _ = precision_recall_fscore_support(y_test, y_pred, average='binary')\n",
    "\n",
    "print(\"\\nTuned Model Evaluation:\")\n",
    "print(f\"Accuracy: {accuracy:.4f}\")\n",
    "print(f\"Precision: {precision:.4f}\")\n",
    "print(f\"Recall: {recall:.4f}\")\n",
    "print(f\"F1 Score: {f1:.4f}\")\n",
    "\n",
    "print(\"\\nBest Hyperparameters:\")\n",
    "print(best_params)\n",
    "\n",
    "from sklearn.metrics import confusion_matrix\n",
    "import seaborn as sns\n",
    "def plot_confusion_matrix(y_true, y_pred):\n",
    "    cm = confusion_matrix(y_true, y_pred)\n",
    "    plt.figure(figsize=(8, 6))\n",
    "    sns.heatmap(cm, annot=True, fmt='d', cmap='Blues', cbar=False)\n",
    "    plt.xlabel('Predicted')\n",
    "    plt.ylabel('Actual')\n",
    "#    plt.title('Confusion Matrix')\n",
    "    plt.show()\n",
    "\n",
    "plot_confusion_matrix(y_test, y_pred)\n"
   ]
  },
  {
   "cell_type": "code",
   "execution_count": 7,
   "id": "f63e5f42",
   "metadata": {},
   "outputs": [
    {
     "data": {
      "image/png": "[encoded data removed]",
      "text/plain": [
       "<Figure size 1200x600 with 2 Axes>"
      ]
     },
     "metadata": {},
     "output_type": "display_data"
    }
   ],
   "source": [
    "# Plot the best model performance\n",
    "plot_model_performance(best_history)"
   ]
  },
  {
   "cell_type": "markdown",
   "id": "97cad536",
   "metadata": {},
   "source": [
    "### Load BERT Tokeniser"
   ]
  },
  {
   "cell_type": "code",
   "execution_count": 8,
   "id": "ce6e8d0f",
   "metadata": {
    "scrolled": true
   },
   "outputs": [
    {
     "name": "stdout",
     "output_type": "stream",
     "text": [
      "WARNING:tensorflow:From C:\\Users\\Aravinthkumar\\AppData\\Roaming\\Python\\Python310\\site-packages\\tf_keras\\src\\backend.py:873: The name tf.get_default_graph is deprecated. Please use tf.compat.v1.get_default_graph instead.\n",
      "\n"
     ]
    },
    {
     "name": "stderr",
     "output_type": "stream",
     "text": [
      "Some weights of the PyTorch model were not used when initializing the TF 2.0 model TFBertModel: ['cls.seq_relationship.weight', 'cls.predictions.transform.dense.weight', 'cls.predictions.transform.LayerNorm.weight', 'cls.predictions.transform.dense.bias', 'cls.predictions.bias', 'cls.predictions.transform.LayerNorm.bias', 'cls.seq_relationship.bias']\n",
      "- This IS expected if you are initializing TFBertModel from a PyTorch model trained on another task or with another architecture (e.g. initializing a TFBertForSequenceClassification model from a BertForPreTraining model).\n",
      "- This IS NOT expected if you are initializing TFBertModel from a PyTorch model that you expect to be exactly identical (e.g. initializing a TFBertForSequenceClassification model from a BertForSequenceClassification model).\n",
      "All the weights of TFBertModel were initialized from the PyTorch model.\n",
      "If your task is similar to the task the model of the checkpoint was trained on, you can already use TFBertModel for predictions without further training.\n"
     ]
    }
   ],
   "source": [
    "# Load BERT tokenizer and model\n",
    "bert_tokenizer = BertTokenizer.from_pretrained('bert-base-uncased')\n",
    "bert_model = TFBertModel.from_pretrained('bert-base-uncased')\n",
    "\n",
    "# Tokenize and encode text in batches to avoid memory issues\n",
    "def encode_texts_in_batches(texts, tokenizer, batch_size=32, max_len=128):\n",
    "    input_ids = []\n",
    "    attention_masks = []\n",
    "    \n",
    "    for i in range(0, len(texts), batch_size):\n",
    "        batch_texts = texts[i:i+batch_size]\n",
    "        batch_input_ids = []\n",
    "        batch_attention_masks = []\n",
    "        \n",
    "        for text in batch_texts:\n",
    "            encoded = tokenizer.encode_plus(\n",
    "                text,\n",
    "                add_special_tokens=True,\n",
    "                max_length=max_len,\n",
    "                padding='max_length',\n",
    "                return_attention_mask=True,\n",
    "                return_tensors='tf',\n",
    "                truncation=True\n",
    "            )\n",
    "            batch_input_ids.append(encoded['input_ids'])\n",
    "            batch_attention_masks.append(encoded['attention_mask'])\n",
    "        \n",
    "        input_ids.append(tf.concat(batch_input_ids, axis=0))\n",
    "        attention_masks.append(tf.concat(batch_attention_masks, axis=0))\n",
    "    \n",
    "    return tf.concat(input_ids, axis=0), tf.concat(attention_masks, axis=0)\n",
    "\n",
    "X_train_input_ids, X_train_attention_masks = encode_texts_in_batches(X_train, bert_tokenizer)\n",
    "X_test_input_ids, X_test_attention_masks = encode_texts_in_batches(X_test, bert_tokenizer)\n"
   ]
  },
  {
   "cell_type": "code",
   "execution_count": 9,
   "id": "304a82f2",
   "metadata": {},
   "outputs": [],
   "source": [
    "# Extract BERT embeddings in batches to avoid memory issues\n",
    "def get_bert_embeddings_in_batches(input_ids, attention_masks, model, batch_size=32):\n",
    "    embeddings = []\n",
    "    \n",
    "    for i in range(0, input_ids.shape[0], batch_size):\n",
    "        batch_input_ids = input_ids[i:i+batch_size]\n",
    "        batch_attention_masks = attention_masks[i:i+batch_size]\n",
    "        \n",
    "        outputs = model(batch_input_ids, attention_mask=batch_attention_masks)\n",
    "        batch_embeddings = outputs.last_hidden_state\n",
    "        embeddings.append(batch_embeddings)\n",
    "    \n",
    "    return tf.concat(embeddings, axis=0)\n",
    "\n",
    "X_train_embeddings = get_bert_embeddings_in_batches(X_train_input_ids, X_train_attention_masks, bert_model)\n",
    "X_test_embeddings = get_bert_embeddings_in_batches(X_test_input_ids, X_test_attention_masks, bert_model)"
   ]
  },
  {
   "cell_type": "markdown",
   "id": "e4290d45",
   "metadata": {},
   "source": [
    "### Model fitting and evaluation of BiLSTM with BERT Embedding"
   ]
  },
  {
   "cell_type": "code",
   "execution_count": 10,
   "id": "e8fb6e2a",
   "metadata": {},
   "outputs": [
    {
     "name": "stdout",
     "output_type": "stream",
     "text": [
      "Epoch 1/10\n"
     ]
    },
    {
     "name": "stderr",
     "output_type": "stream",
     "text": [
      "C:\\Users\\Aravinthkumar\\AppData\\Roaming\\Python\\Python310\\site-packages\\keras\\src\\layers\\rnn\\bidirectional.py:107: UserWarning: Do not pass an `input_shape`/`input_dim` argument to a layer. When using Sequential models, prefer using an `Input(shape)` object as the first layer in the model instead.\n",
      "  super().__init__(**kwargs)\n"
     ]
    },
    {
     "name": "stdout",
     "output_type": "stream",
     "text": [
      "\u001b[1m569/569\u001b[0m \u001b[32m━━━━━━━━━━━━━━━━━━━━\u001b[0m\u001b[37m\u001b[0m \u001b[1m76s\u001b[0m 125ms/step - f1_score: 0.3840 - loss: 0.4118 - val_f1_score: 0.4931 - val_loss: 0.3012\n",
      "Epoch 2/10\n",
      "\u001b[1m569/569\u001b[0m \u001b[32m━━━━━━━━━━━━━━━━━━━━\u001b[0m\u001b[37m\u001b[0m \u001b[1m67s\u001b[0m 118ms/step - f1_score: 0.5902 - loss: 0.3331 - val_f1_score: 0.6491 - val_loss: 0.2955\n",
      "Epoch 3/10\n",
      "\u001b[1m569/569\u001b[0m \u001b[32m━━━━━━━━━━━━━━━━━━━━\u001b[0m\u001b[37m\u001b[0m \u001b[1m66s\u001b[0m 117ms/step - f1_score: 0.6260 - loss: 0.3045 - val_f1_score: 0.6056 - val_loss: 0.2797\n",
      "Epoch 4/10\n",
      "\u001b[1m569/569\u001b[0m \u001b[32m━━━━━━━━━━━━━━━━━━━━\u001b[0m\u001b[37m\u001b[0m \u001b[1m67s\u001b[0m 117ms/step - f1_score: 0.6531 - loss: 0.2944 - val_f1_score: 0.6211 - val_loss: 0.2759\n",
      "Epoch 5/10\n",
      "\u001b[1m569/569\u001b[0m \u001b[32m━━━━━━━━━━━━━━━━━━━━\u001b[0m\u001b[37m\u001b[0m \u001b[1m66s\u001b[0m 116ms/step - f1_score: 0.6879 - loss: 0.2711 - val_f1_score: 0.6149 - val_loss: 0.2727\n",
      "Epoch 6/10\n",
      "\u001b[1m569/569\u001b[0m \u001b[32m━━━━━━━━━━━━━━━━━━━━\u001b[0m\u001b[37m\u001b[0m \u001b[1m66s\u001b[0m 116ms/step - f1_score: 0.6896 - loss: 0.2583 - val_f1_score: 0.6306 - val_loss: 0.2803\n",
      "Epoch 7/10\n",
      "\u001b[1m569/569\u001b[0m \u001b[32m━━━━━━━━━━━━━━━━━━━━\u001b[0m\u001b[37m\u001b[0m \u001b[1m63s\u001b[0m 111ms/step - f1_score: 0.7267 - loss: 0.2380 - val_f1_score: 0.6566 - val_loss: 0.2733\n",
      "Epoch 8/10\n",
      "\u001b[1m569/569\u001b[0m \u001b[32m━━━━━━━━━━━━━━━━━━━━\u001b[0m\u001b[37m\u001b[0m \u001b[1m61s\u001b[0m 107ms/step - f1_score: 0.7648 - loss: 0.2109 - val_f1_score: 0.6658 - val_loss: 0.2915\n"
     ]
    },
    {
     "data": {
      "image/png": "[encoded data removed]",
      "text/plain": [
       "<Figure size 1200x600 with 2 Axes>"
      ]
     },
     "metadata": {},
     "output_type": "display_data"
    }
   ],
   "source": [
    "# Build LSTM model\n",
    "lstm_model = Sequential()\n",
    "lstm_model.add(Bidirectional(LSTM(64, return_sequences=True, dropout=0.3, recurrent_dropout=0.3), input_shape=(128, 768)))\n",
    "lstm_model.add(Bidirectional(LSTM(32, dropout=0.3, recurrent_dropout=0.3)))\n",
    "lstm_model.add(Dropout(0.3))\n",
    "lstm_model.add(Dense(64, activation='relu'))\n",
    "lstm_model.add(Dropout(0.3))\n",
    "lstm_model.add(Dense(1, activation='sigmoid'))\n",
    "\n",
    "# Compile the model\n",
    "lstm_model.compile(loss='binary_crossentropy', optimizer=tf.keras.optimizers.Adam(learning_rate=0.001), metrics=[F1Score()])\n",
    "\n",
    "# Train the LSTM model\n",
    "lstm_history = lstm_model.fit(\n",
    "    X_train_embeddings, y_train,\n",
    "    validation_data=(X_test_embeddings, y_test),\n",
    "    epochs=10,\n",
    "    batch_size=16,\n",
    "    callbacks=[EarlyStopping(monitor='val_loss', patience=3, restore_best_weights=True), ModelCheckpoint('best_bert_lstm_model.keras', save_best_only=True, monitor='val_loss')]\n",
    ")\n",
    "\n",
    "def plot_model_performance(history):\n",
    "    # Extracting the training and validation loss from the history object\n",
    "    train_loss = history.history['loss']\n",
    "    val_loss = history.history['val_loss']\n",
    "\n",
    "    # Plotting the loss\n",
    "    plt.figure(figsize=(12, 6))\n",
    "\n",
    "    # Plot Training vs Validation Loss\n",
    "    plt.subplot(1, 2, 1)\n",
    "    plt.plot(train_loss, label='Training Loss')\n",
    "    plt.plot(val_loss, label='Validation Loss')\n",
    "    plt.title('Training vs Validation Loss')\n",
    "    plt.xlabel('Epochs')\n",
    "    plt.ylabel('Loss')\n",
    "    plt.legend()\n",
    "\n",
    "    # Plot Precision vs Recall\n",
    "    precision = history.history['f1_score']\n",
    "    recall = history.history.get('val_f1_score', None)\n",
    "    epochs = range(1, len(precision) + 1)\n",
    "\n",
    "    plt.subplot(1, 2, 2)\n",
    "    plt.plot(epochs, precision, label='Precision')\n",
    "    if recall:\n",
    "        plt.plot(epochs, recall, label='Recall')\n",
    "    plt.title('Precision vs Recall')\n",
    "    plt.xlabel('Epochs')\n",
    "    plt.ylabel('Score')\n",
    "    plt.legend()\n",
    "\n",
    "    plt.tight_layout()\n",
    "    plt.show()\n",
    "\n",
    "# Plot the performance of the LSTM model trained with BERT embeddings\n",
    "plot_model_performance(lstm_history)\n"
   ]
  },
  {
   "cell_type": "code",
   "execution_count": 11,
   "id": "7e6100a4",
   "metadata": {},
   "outputs": [
    {
     "name": "stdout",
     "output_type": "stream",
     "text": [
      "\u001b[1m72/72\u001b[0m \u001b[32m━━━━━━━━━━━━━━━━━━━━\u001b[0m\u001b[37m\u001b[0m \u001b[1m5s\u001b[0m 69ms/step\n",
      "\n",
      "Model Evaluation:\n",
      "Accuracy: 0.8887\n",
      "Precision: 0.7739\n",
      "Recall: 0.5101\n",
      "F1 Score: 0.6149\n",
      "\n",
      "Classification Report:\n",
      "              precision    recall  f1-score   support\n",
      "\n",
      "           0       0.90      0.97      0.93      1878\n",
      "           1       0.77      0.51      0.61       396\n",
      "\n",
      "    accuracy                           0.89      2274\n",
      "   macro avg       0.84      0.74      0.77      2274\n",
      "weighted avg       0.88      0.89      0.88      2274\n",
      "\n"
     ]
    }
   ],
   "source": [
    "from sklearn.metrics import accuracy_score, precision_recall_fscore_support, classification_report\n",
    "\n",
    "# Make predictions on the test set\n",
    "y_pred_probs = lstm_model.predict(X_test_embeddings)\n",
    "y_pred = (y_pred_probs > 0.5).astype(int)\n",
    "\n",
    "# Calculate accuracy\n",
    "accuracy = accuracy_score(y_test, y_pred)\n",
    "\n",
    "# Calculate precision, recall, and f1 score\n",
    "precision, recall, f1, _ = precision_recall_fscore_support(y_test, y_pred, average='binary')\n",
    "\n",
    "# Print the evaluation metrics\n",
    "print(\"\\nModel Evaluation:\")\n",
    "print(f\"Accuracy: {accuracy:.4f}\")\n",
    "print(f\"Precision: {precision:.4f}\")\n",
    "print(f\"Recall: {recall:.4f}\")\n",
    "print(f\"F1 Score: {f1:.4f}\")\n",
    "\n",
    "# Print the classification report for a detailed view\n",
    "print(\"\\nClassification Report:\")\n",
    "print(classification_report(y_test, y_pred))"
   ]
  },
  {
   "cell_type": "code",
   "execution_count": 12,
   "id": "c655936f",
   "metadata": {},
   "outputs": [
    {
     "data": {
      "image/png": "[encoded data removed]",
      "text/plain": [
       "<Figure size 800x600 with 1 Axes>"
      ]
     },
     "metadata": {},
     "output_type": "display_data"
    }
   ],
   "source": [
    "from sklearn.metrics import confusion_matrix\n",
    "import seaborn as sns\n",
    "def plot_confusion_matrix(y_true, y_pred):\n",
    "    cm = confusion_matrix(y_true, y_pred)\n",
    "    plt.figure(figsize=(8, 6))\n",
    "    sns.heatmap(cm, annot=True, fmt='d', cmap='Blues', cbar=False)\n",
    "    plt.xlabel('Predicted')\n",
    "    plt.ylabel('Actual')\n",
    "#    plt.title('Confusion Matrix')\n",
    "    plt.show()\n",
    "\n",
    "plot_confusion_matrix(y_test, y_pred)"
   ]
  },
  {
   "cell_type": "markdown",
   "id": "33cc998b",
   "metadata": {},
   "source": [
    "### Hyper Parameter Tuning of BiLSTM model with BERT"
   ]
  },
  {
   "cell_type": "code",
   "execution_count": 13,
   "id": "78eb1eee",
   "metadata": {},
   "outputs": [
    {
     "name": "stdout",
     "output_type": "stream",
     "text": [
      "\n",
      "Testing parameters: LSTM units = 32, Dropout rate = 0.2, Learning rate = 0.001, Batch size = 32, Epochs = 10\n"
     ]
    },
    {
     "name": "stderr",
     "output_type": "stream",
     "text": [
      "C:\\Users\\Aravinthkumar\\AppData\\Roaming\\Python\\Python310\\site-packages\\keras\\src\\layers\\rnn\\bidirectional.py:107: UserWarning: Do not pass an `input_shape`/`input_dim` argument to a layer. When using Sequential models, prefer using an `Input(shape)` object as the first layer in the model instead.\n",
      "  super().__init__(**kwargs)\n"
     ]
    },
    {
     "name": "stdout",
     "output_type": "stream",
     "text": [
      "\u001b[1m72/72\u001b[0m \u001b[32m━━━━━━━━━━━━━━━━━━━━\u001b[0m\u001b[37m\u001b[0m \u001b[1m4s\u001b[0m 55ms/step\n",
      "F1 Score for this combination: 0.6333\n",
      "New best model found with F1 Score: 0.6333\n",
      "\n",
      "Testing parameters: LSTM units = 32, Dropout rate = 0.2, Learning rate = 0.001, Batch size = 64, Epochs = 10\n"
     ]
    },
    {
     "name": "stderr",
     "output_type": "stream",
     "text": [
      "C:\\Users\\Aravinthkumar\\AppData\\Roaming\\Python\\Python310\\site-packages\\keras\\src\\layers\\rnn\\bidirectional.py:107: UserWarning: Do not pass an `input_shape`/`input_dim` argument to a layer. When using Sequential models, prefer using an `Input(shape)` object as the first layer in the model instead.\n",
      "  super().__init__(**kwargs)\n"
     ]
    },
    {
     "name": "stdout",
     "output_type": "stream",
     "text": [
      "\u001b[1m72/72\u001b[0m \u001b[32m━━━━━━━━━━━━━━━━━━━━\u001b[0m\u001b[37m\u001b[0m \u001b[1m4s\u001b[0m 51ms/step\n",
      "F1 Score for this combination: 0.6685\n",
      "New best model found with F1 Score: 0.6685\n",
      "\n",
      "Testing parameters: LSTM units = 32, Dropout rate = 0.2, Learning rate = 0.005, Batch size = 32, Epochs = 10\n"
     ]
    },
    {
     "name": "stderr",
     "output_type": "stream",
     "text": [
      "C:\\Users\\Aravinthkumar\\AppData\\Roaming\\Python\\Python310\\site-packages\\keras\\src\\layers\\rnn\\bidirectional.py:107: UserWarning: Do not pass an `input_shape`/`input_dim` argument to a layer. When using Sequential models, prefer using an `Input(shape)` object as the first layer in the model instead.\n",
      "  super().__init__(**kwargs)\n"
     ]
    },
    {
     "name": "stdout",
     "output_type": "stream",
     "text": [
      "\u001b[1m72/72\u001b[0m \u001b[32m━━━━━━━━━━━━━━━━━━━━\u001b[0m\u001b[37m\u001b[0m \u001b[1m4s\u001b[0m 49ms/step\n",
      "F1 Score for this combination: 0.6657\n",
      "\n",
      "Testing parameters: LSTM units = 32, Dropout rate = 0.2, Learning rate = 0.005, Batch size = 64, Epochs = 10\n"
     ]
    },
    {
     "name": "stderr",
     "output_type": "stream",
     "text": [
      "C:\\Users\\Aravinthkumar\\AppData\\Roaming\\Python\\Python310\\site-packages\\keras\\src\\layers\\rnn\\bidirectional.py:107: UserWarning: Do not pass an `input_shape`/`input_dim` argument to a layer. When using Sequential models, prefer using an `Input(shape)` object as the first layer in the model instead.\n",
      "  super().__init__(**kwargs)\n"
     ]
    },
    {
     "name": "stdout",
     "output_type": "stream",
     "text": [
      "\u001b[1m72/72\u001b[0m \u001b[32m━━━━━━━━━━━━━━━━━━━━\u001b[0m\u001b[37m\u001b[0m \u001b[1m4s\u001b[0m 47ms/step\n",
      "F1 Score for this combination: 0.6295\n",
      "\n",
      "Testing parameters: LSTM units = 32, Dropout rate = 0.3, Learning rate = 0.001, Batch size = 32, Epochs = 10\n"
     ]
    },
    {
     "name": "stderr",
     "output_type": "stream",
     "text": [
      "C:\\Users\\Aravinthkumar\\AppData\\Roaming\\Python\\Python310\\site-packages\\keras\\src\\layers\\rnn\\bidirectional.py:107: UserWarning: Do not pass an `input_shape`/`input_dim` argument to a layer. When using Sequential models, prefer using an `Input(shape)` object as the first layer in the model instead.\n",
      "  super().__init__(**kwargs)\n"
     ]
    },
    {
     "name": "stdout",
     "output_type": "stream",
     "text": [
      "\u001b[1m72/72\u001b[0m \u001b[32m━━━━━━━━━━━━━━━━━━━━\u001b[0m\u001b[37m\u001b[0m \u001b[1m4s\u001b[0m 48ms/step\n",
      "F1 Score for this combination: 0.6461\n",
      "\n",
      "Testing parameters: LSTM units = 32, Dropout rate = 0.3, Learning rate = 0.001, Batch size = 64, Epochs = 10\n"
     ]
    },
    {
     "name": "stderr",
     "output_type": "stream",
     "text": [
      "C:\\Users\\Aravinthkumar\\AppData\\Roaming\\Python\\Python310\\site-packages\\keras\\src\\layers\\rnn\\bidirectional.py:107: UserWarning: Do not pass an `input_shape`/`input_dim` argument to a layer. When using Sequential models, prefer using an `Input(shape)` object as the first layer in the model instead.\n",
      "  super().__init__(**kwargs)\n"
     ]
    },
    {
     "name": "stdout",
     "output_type": "stream",
     "text": [
      "\u001b[1m72/72\u001b[0m \u001b[32m━━━━━━━━━━━━━━━━━━━━\u001b[0m\u001b[37m\u001b[0m \u001b[1m4s\u001b[0m 47ms/step\n",
      "F1 Score for this combination: 0.6732\n",
      "New best model found with F1 Score: 0.6732\n",
      "\n",
      "Testing parameters: LSTM units = 32, Dropout rate = 0.3, Learning rate = 0.005, Batch size = 32, Epochs = 10\n"
     ]
    },
    {
     "name": "stderr",
     "output_type": "stream",
     "text": [
      "C:\\Users\\Aravinthkumar\\AppData\\Roaming\\Python\\Python310\\site-packages\\keras\\src\\layers\\rnn\\bidirectional.py:107: UserWarning: Do not pass an `input_shape`/`input_dim` argument to a layer. When using Sequential models, prefer using an `Input(shape)` object as the first layer in the model instead.\n",
      "  super().__init__(**kwargs)\n"
     ]
    },
    {
     "name": "stdout",
     "output_type": "stream",
     "text": [
      "\u001b[1m72/72\u001b[0m \u001b[32m━━━━━━━━━━━━━━━━━━━━\u001b[0m\u001b[37m\u001b[0m \u001b[1m4s\u001b[0m 48ms/step\n",
      "F1 Score for this combination: 0.6676\n",
      "\n",
      "Testing parameters: LSTM units = 32, Dropout rate = 0.3, Learning rate = 0.005, Batch size = 64, Epochs = 10\n"
     ]
    },
    {
     "name": "stderr",
     "output_type": "stream",
     "text": [
      "C:\\Users\\Aravinthkumar\\AppData\\Roaming\\Python\\Python310\\site-packages\\keras\\src\\layers\\rnn\\bidirectional.py:107: UserWarning: Do not pass an `input_shape`/`input_dim` argument to a layer. When using Sequential models, prefer using an `Input(shape)` object as the first layer in the model instead.\n",
      "  super().__init__(**kwargs)\n"
     ]
    },
    {
     "name": "stdout",
     "output_type": "stream",
     "text": [
      "\u001b[1m72/72\u001b[0m \u001b[32m━━━━━━━━━━━━━━━━━━━━\u001b[0m\u001b[37m\u001b[0m \u001b[1m4s\u001b[0m 49ms/step\n",
      "F1 Score for this combination: 0.6512\n",
      "\n",
      "Testing parameters: LSTM units = 64, Dropout rate = 0.2, Learning rate = 0.001, Batch size = 32, Epochs = 10\n"
     ]
    },
    {
     "name": "stderr",
     "output_type": "stream",
     "text": [
      "C:\\Users\\Aravinthkumar\\AppData\\Roaming\\Python\\Python310\\site-packages\\keras\\src\\layers\\rnn\\bidirectional.py:107: UserWarning: Do not pass an `input_shape`/`input_dim` argument to a layer. When using Sequential models, prefer using an `Input(shape)` object as the first layer in the model instead.\n",
      "  super().__init__(**kwargs)\n"
     ]
    },
    {
     "name": "stdout",
     "output_type": "stream",
     "text": [
      "\u001b[1m72/72\u001b[0m \u001b[32m━━━━━━━━━━━━━━━━━━━━\u001b[0m\u001b[37m\u001b[0m \u001b[1m7s\u001b[0m 84ms/step\n",
      "F1 Score for this combination: 0.6466\n",
      "\n",
      "Testing parameters: LSTM units = 64, Dropout rate = 0.2, Learning rate = 0.001, Batch size = 64, Epochs = 10\n"
     ]
    },
    {
     "name": "stderr",
     "output_type": "stream",
     "text": [
      "C:\\Users\\Aravinthkumar\\AppData\\Roaming\\Python\\Python310\\site-packages\\keras\\src\\layers\\rnn\\bidirectional.py:107: UserWarning: Do not pass an `input_shape`/`input_dim` argument to a layer. When using Sequential models, prefer using an `Input(shape)` object as the first layer in the model instead.\n",
      "  super().__init__(**kwargs)\n"
     ]
    },
    {
     "name": "stdout",
     "output_type": "stream",
     "text": [
      "\u001b[1m72/72\u001b[0m \u001b[32m━━━━━━━━━━━━━━━━━━━━\u001b[0m\u001b[37m\u001b[0m \u001b[1m6s\u001b[0m 80ms/step\n",
      "F1 Score for this combination: 0.6090\n",
      "\n",
      "Testing parameters: LSTM units = 64, Dropout rate = 0.2, Learning rate = 0.005, Batch size = 32, Epochs = 10\n"
     ]
    },
    {
     "name": "stderr",
     "output_type": "stream",
     "text": [
      "C:\\Users\\Aravinthkumar\\AppData\\Roaming\\Python\\Python310\\site-packages\\keras\\src\\layers\\rnn\\bidirectional.py:107: UserWarning: Do not pass an `input_shape`/`input_dim` argument to a layer. When using Sequential models, prefer using an `Input(shape)` object as the first layer in the model instead.\n",
      "  super().__init__(**kwargs)\n"
     ]
    },
    {
     "name": "stdout",
     "output_type": "stream",
     "text": [
      "\u001b[1m72/72\u001b[0m \u001b[32m━━━━━━━━━━━━━━━━━━━━\u001b[0m\u001b[37m\u001b[0m \u001b[1m6s\u001b[0m 81ms/step\n",
      "F1 Score for this combination: 0.6400\n",
      "\n",
      "Testing parameters: LSTM units = 64, Dropout rate = 0.2, Learning rate = 0.005, Batch size = 64, Epochs = 10\n"
     ]
    },
    {
     "name": "stderr",
     "output_type": "stream",
     "text": [
      "C:\\Users\\Aravinthkumar\\AppData\\Roaming\\Python\\Python310\\site-packages\\keras\\src\\layers\\rnn\\bidirectional.py:107: UserWarning: Do not pass an `input_shape`/`input_dim` argument to a layer. When using Sequential models, prefer using an `Input(shape)` object as the first layer in the model instead.\n",
      "  super().__init__(**kwargs)\n"
     ]
    },
    {
     "name": "stdout",
     "output_type": "stream",
     "text": [
      "\u001b[1m72/72\u001b[0m \u001b[32m━━━━━━━━━━━━━━━━━━━━\u001b[0m\u001b[37m\u001b[0m \u001b[1m7s\u001b[0m 96ms/step\n",
      "F1 Score for this combination: 0.6235\n",
      "\n",
      "Testing parameters: LSTM units = 64, Dropout rate = 0.3, Learning rate = 0.001, Batch size = 32, Epochs = 10\n"
     ]
    },
    {
     "name": "stderr",
     "output_type": "stream",
     "text": [
      "C:\\Users\\Aravinthkumar\\AppData\\Roaming\\Python\\Python310\\site-packages\\keras\\src\\layers\\rnn\\bidirectional.py:107: UserWarning: Do not pass an `input_shape`/`input_dim` argument to a layer. When using Sequential models, prefer using an `Input(shape)` object as the first layer in the model instead.\n",
      "  super().__init__(**kwargs)\n"
     ]
    },
    {
     "name": "stdout",
     "output_type": "stream",
     "text": [
      "\u001b[1m72/72\u001b[0m \u001b[32m━━━━━━━━━━━━━━━━━━━━\u001b[0m\u001b[37m\u001b[0m \u001b[1m7s\u001b[0m 96ms/step\n",
      "F1 Score for this combination: 0.6156\n",
      "\n",
      "Testing parameters: LSTM units = 64, Dropout rate = 0.3, Learning rate = 0.001, Batch size = 64, Epochs = 10\n"
     ]
    },
    {
     "name": "stderr",
     "output_type": "stream",
     "text": [
      "C:\\Users\\Aravinthkumar\\AppData\\Roaming\\Python\\Python310\\site-packages\\keras\\src\\layers\\rnn\\bidirectional.py:107: UserWarning: Do not pass an `input_shape`/`input_dim` argument to a layer. When using Sequential models, prefer using an `Input(shape)` object as the first layer in the model instead.\n",
      "  super().__init__(**kwargs)\n"
     ]
    },
    {
     "name": "stdout",
     "output_type": "stream",
     "text": [
      "\u001b[1m72/72\u001b[0m \u001b[32m━━━━━━━━━━━━━━━━━━━━\u001b[0m\u001b[37m\u001b[0m \u001b[1m7s\u001b[0m 96ms/step\n",
      "F1 Score for this combination: 0.6440\n",
      "\n",
      "Testing parameters: LSTM units = 64, Dropout rate = 0.3, Learning rate = 0.005, Batch size = 32, Epochs = 10\n"
     ]
    },
    {
     "name": "stderr",
     "output_type": "stream",
     "text": [
      "C:\\Users\\Aravinthkumar\\AppData\\Roaming\\Python\\Python310\\site-packages\\keras\\src\\layers\\rnn\\bidirectional.py:107: UserWarning: Do not pass an `input_shape`/`input_dim` argument to a layer. When using Sequential models, prefer using an `Input(shape)` object as the first layer in the model instead.\n",
      "  super().__init__(**kwargs)\n"
     ]
    },
    {
     "name": "stdout",
     "output_type": "stream",
     "text": [
      "\u001b[1m72/72\u001b[0m \u001b[32m━━━━━━━━━━━━━━━━━━━━\u001b[0m\u001b[37m\u001b[0m \u001b[1m7s\u001b[0m 93ms/step\n",
      "F1 Score for this combination: 0.5987\n",
      "\n",
      "Testing parameters: LSTM units = 64, Dropout rate = 0.3, Learning rate = 0.005, Batch size = 64, Epochs = 10\n"
     ]
    },
    {
     "name": "stderr",
     "output_type": "stream",
     "text": [
      "C:\\Users\\Aravinthkumar\\AppData\\Roaming\\Python\\Python310\\site-packages\\keras\\src\\layers\\rnn\\bidirectional.py:107: UserWarning: Do not pass an `input_shape`/`input_dim` argument to a layer. When using Sequential models, prefer using an `Input(shape)` object as the first layer in the model instead.\n",
      "  super().__init__(**kwargs)\n"
     ]
    },
    {
     "name": "stdout",
     "output_type": "stream",
     "text": [
      "\u001b[1m72/72\u001b[0m \u001b[32m━━━━━━━━━━━━━━━━━━━━\u001b[0m\u001b[37m\u001b[0m \u001b[1m7s\u001b[0m 86ms/step\n",
      "F1 Score for this combination: 0.6453\n",
      "\n",
      "Testing parameters: LSTM units = 128, Dropout rate = 0.2, Learning rate = 0.001, Batch size = 32, Epochs = 10\n"
     ]
    },
    {
     "name": "stderr",
     "output_type": "stream",
     "text": [
      "C:\\Users\\Aravinthkumar\\AppData\\Roaming\\Python\\Python310\\site-packages\\keras\\src\\layers\\rnn\\bidirectional.py:107: UserWarning: Do not pass an `input_shape`/`input_dim` argument to a layer. When using Sequential models, prefer using an `Input(shape)` object as the first layer in the model instead.\n",
      "  super().__init__(**kwargs)\n"
     ]
    },
    {
     "name": "stdout",
     "output_type": "stream",
     "text": [
      "\u001b[1m72/72\u001b[0m \u001b[32m━━━━━━━━━━━━━━━━━━━━\u001b[0m\u001b[37m\u001b[0m \u001b[1m13s\u001b[0m 175ms/step\n",
      "F1 Score for this combination: 0.6648\n",
      "\n",
      "Testing parameters: LSTM units = 128, Dropout rate = 0.2, Learning rate = 0.001, Batch size = 64, Epochs = 10\n"
     ]
    },
    {
     "name": "stderr",
     "output_type": "stream",
     "text": [
      "C:\\Users\\Aravinthkumar\\AppData\\Roaming\\Python\\Python310\\site-packages\\keras\\src\\layers\\rnn\\bidirectional.py:107: UserWarning: Do not pass an `input_shape`/`input_dim` argument to a layer. When using Sequential models, prefer using an `Input(shape)` object as the first layer in the model instead.\n",
      "  super().__init__(**kwargs)\n"
     ]
    },
    {
     "name": "stdout",
     "output_type": "stream",
     "text": [
      "\u001b[1m72/72\u001b[0m \u001b[32m━━━━━━━━━━━━━━━━━━━━\u001b[0m\u001b[37m\u001b[0m \u001b[1m15s\u001b[0m 204ms/step\n",
      "F1 Score for this combination: 0.6685\n",
      "\n",
      "Testing parameters: LSTM units = 128, Dropout rate = 0.2, Learning rate = 0.005, Batch size = 32, Epochs = 10\n"
     ]
    },
    {
     "name": "stderr",
     "output_type": "stream",
     "text": [
      "C:\\Users\\Aravinthkumar\\AppData\\Roaming\\Python\\Python310\\site-packages\\keras\\src\\layers\\rnn\\bidirectional.py:107: UserWarning: Do not pass an `input_shape`/`input_dim` argument to a layer. When using Sequential models, prefer using an `Input(shape)` object as the first layer in the model instead.\n",
      "  super().__init__(**kwargs)\n"
     ]
    },
    {
     "name": "stdout",
     "output_type": "stream",
     "text": [
      "\u001b[1m72/72\u001b[0m \u001b[32m━━━━━━━━━━━━━━━━━━━━\u001b[0m\u001b[37m\u001b[0m \u001b[1m16s\u001b[0m 221ms/step\n",
      "F1 Score for this combination: 0.6429\n",
      "\n",
      "Testing parameters: LSTM units = 128, Dropout rate = 0.2, Learning rate = 0.005, Batch size = 64, Epochs = 10\n"
     ]
    },
    {
     "name": "stderr",
     "output_type": "stream",
     "text": [
      "C:\\Users\\Aravinthkumar\\AppData\\Roaming\\Python\\Python310\\site-packages\\keras\\src\\layers\\rnn\\bidirectional.py:107: UserWarning: Do not pass an `input_shape`/`input_dim` argument to a layer. When using Sequential models, prefer using an `Input(shape)` object as the first layer in the model instead.\n",
      "  super().__init__(**kwargs)\n"
     ]
    },
    {
     "name": "stdout",
     "output_type": "stream",
     "text": [
      "\u001b[1m72/72\u001b[0m \u001b[32m━━━━━━━━━━━━━━━━━━━━\u001b[0m\u001b[37m\u001b[0m \u001b[1m16s\u001b[0m 214ms/step\n",
      "F1 Score for this combination: 0.6335\n",
      "\n",
      "Testing parameters: LSTM units = 128, Dropout rate = 0.3, Learning rate = 0.001, Batch size = 32, Epochs = 10\n"
     ]
    },
    {
     "name": "stderr",
     "output_type": "stream",
     "text": [
      "C:\\Users\\Aravinthkumar\\AppData\\Roaming\\Python\\Python310\\site-packages\\keras\\src\\layers\\rnn\\bidirectional.py:107: UserWarning: Do not pass an `input_shape`/`input_dim` argument to a layer. When using Sequential models, prefer using an `Input(shape)` object as the first layer in the model instead.\n",
      "  super().__init__(**kwargs)\n"
     ]
    },
    {
     "name": "stdout",
     "output_type": "stream",
     "text": [
      "\u001b[1m72/72\u001b[0m \u001b[32m━━━━━━━━━━━━━━━━━━━━\u001b[0m\u001b[37m\u001b[0m \u001b[1m16s\u001b[0m 210ms/step\n",
      "F1 Score for this combination: 0.5821\n",
      "\n",
      "Testing parameters: LSTM units = 128, Dropout rate = 0.3, Learning rate = 0.001, Batch size = 64, Epochs = 10\n"
     ]
    },
    {
     "name": "stderr",
     "output_type": "stream",
     "text": [
      "C:\\Users\\Aravinthkumar\\AppData\\Roaming\\Python\\Python310\\site-packages\\keras\\src\\layers\\rnn\\bidirectional.py:107: UserWarning: Do not pass an `input_shape`/`input_dim` argument to a layer. When using Sequential models, prefer using an `Input(shape)` object as the first layer in the model instead.\n",
      "  super().__init__(**kwargs)\n"
     ]
    },
    {
     "name": "stdout",
     "output_type": "stream",
     "text": [
      "\u001b[1m72/72\u001b[0m \u001b[32m━━━━━━━━━━━━━━━━━━━━\u001b[0m\u001b[37m\u001b[0m \u001b[1m15s\u001b[0m 205ms/step\n",
      "F1 Score for this combination: 0.5903\n",
      "\n",
      "Testing parameters: LSTM units = 128, Dropout rate = 0.3, Learning rate = 0.005, Batch size = 32, Epochs = 10\n"
     ]
    },
    {
     "name": "stderr",
     "output_type": "stream",
     "text": [
      "C:\\Users\\Aravinthkumar\\AppData\\Roaming\\Python\\Python310\\site-packages\\keras\\src\\layers\\rnn\\bidirectional.py:107: UserWarning: Do not pass an `input_shape`/`input_dim` argument to a layer. When using Sequential models, prefer using an `Input(shape)` object as the first layer in the model instead.\n",
      "  super().__init__(**kwargs)\n"
     ]
    },
    {
     "name": "stdout",
     "output_type": "stream",
     "text": [
      "\u001b[1m72/72\u001b[0m \u001b[32m━━━━━━━━━━━━━━━━━━━━\u001b[0m\u001b[37m\u001b[0m \u001b[1m15s\u001b[0m 204ms/step\n",
      "F1 Score for this combination: 0.6614\n",
      "\n",
      "Testing parameters: LSTM units = 128, Dropout rate = 0.3, Learning rate = 0.005, Batch size = 64, Epochs = 10\n"
     ]
    },
    {
     "name": "stderr",
     "output_type": "stream",
     "text": [
      "C:\\Users\\Aravinthkumar\\AppData\\Roaming\\Python\\Python310\\site-packages\\keras\\src\\layers\\rnn\\bidirectional.py:107: UserWarning: Do not pass an `input_shape`/`input_dim` argument to a layer. When using Sequential models, prefer using an `Input(shape)` object as the first layer in the model instead.\n",
      "  super().__init__(**kwargs)\n"
     ]
    },
    {
     "name": "stdout",
     "output_type": "stream",
     "text": [
      "\u001b[1m72/72\u001b[0m \u001b[32m━━━━━━━━━━━━━━━━━━━━\u001b[0m\u001b[37m\u001b[0m \u001b[1m16s\u001b[0m 215ms/step\n",
      "F1 Score for this combination: 0.6490\n",
      "\n",
      "Best model parameters:\n",
      "lstm_units: 32\n",
      "dropout_rate: 0.3\n",
      "learning_rate: 0.001\n",
      "batch_size: 64\n",
      "epochs: 10\n"
     ]
    },
    {
     "data": {
      "image/png": "[encoded data removed]",
      "text/plain": [
       "<Figure size 1200x600 with 2 Axes>"
      ]
     },
     "metadata": {},
     "output_type": "display_data"
    },
    {
     "name": "stdout",
     "output_type": "stream",
     "text": [
      "\u001b[1m72/72\u001b[0m \u001b[32m━━━━━━━━━━━━━━━━━━━━\u001b[0m\u001b[37m\u001b[0m \u001b[1m4s\u001b[0m 53ms/step\n",
      "\n",
      "Tuned Model Evaluation:\n",
      "Accuracy: 0.8971\n",
      "Precision: 0.7531\n",
      "Recall: 0.6086\n",
      "F1 Score: 0.6732\n",
      "\n",
      "Classification Report:\n",
      "              precision    recall  f1-score   support\n",
      "\n",
      "           0       0.92      0.96      0.94      1878\n",
      "           1       0.75      0.61      0.67       396\n",
      "\n",
      "    accuracy                           0.90      2274\n",
      "   macro avg       0.84      0.78      0.81      2274\n",
      "weighted avg       0.89      0.90      0.89      2274\n",
      "\n"
     ]
    }
   ],
   "source": [
    "import tensorflow as tf\n",
    "from tensorflow.keras.models import Sequential\n",
    "from tensorflow.keras.layers import LSTM, Bidirectional, Dropout, Dense\n",
    "from tensorflow.keras.callbacks import EarlyStopping\n",
    "from sklearn.metrics import accuracy_score, precision_recall_fscore_support, classification_report\n",
    "import matplotlib.pyplot as plt\n",
    "\n",
    "# Define the custom F1Score metric\n",
    "class F1Score(tf.keras.metrics.Metric):\n",
    "    def __init__(self, name='f1_score', **kwargs):\n",
    "        super(F1Score, self).__init__(name=name, **kwargs)\n",
    "        self.precision = tf.keras.metrics.Precision()\n",
    "        self.recall = tf.keras.metrics.Recall()\n",
    "\n",
    "    def update_state(self, y_true, y_pred, sample_weight=None):\n",
    "        self.precision.update_state(y_true, y_pred, sample_weight)\n",
    "        self.recall.update_state(y_true, y_pred, sample_weight)\n",
    "\n",
    "    def result(self):\n",
    "        precision = self.precision.result()\n",
    "        recall = self.recall.result()\n",
    "        return 2 * ((precision * recall) / (precision + recall + tf.keras.backend.epsilon()))\n",
    "\n",
    "    def reset_states(self):\n",
    "        self.precision.reset_states()\n",
    "        self.recall.reset_states()\n",
    "\n",
    "# Define a function for creating the model\n",
    "def create_lstm_model(lstm_units, dropout_rate, learning_rate):\n",
    "    model = Sequential()\n",
    "    model.add(Bidirectional(LSTM(lstm_units, return_sequences=True, dropout=dropout_rate, recurrent_dropout=dropout_rate), input_shape=(128, 768)))\n",
    "    model.add(Bidirectional(LSTM(lstm_units // 2, dropout=dropout_rate, recurrent_dropout=dropout_rate)))\n",
    "    model.add(Dropout(dropout_rate))\n",
    "    model.add(Dense(64, activation='relu'))\n",
    "    model.add(Dropout(dropout_rate))\n",
    "    model.add(Dense(1, activation='sigmoid'))\n",
    "    \n",
    "    model.compile(\n",
    "        loss='binary_crossentropy', \n",
    "        optimizer=tf.keras.optimizers.Adam(learning_rate=learning_rate), \n",
    "        metrics=[F1Score()]\n",
    "    )\n",
    "    return model\n",
    "\n",
    "# Function to plot model performance\n",
    "def plot_model_performance(history):\n",
    "    # Extracting the training and validation loss from the history object\n",
    "    train_loss = history.history['loss']\n",
    "    val_loss = history.history['val_loss']\n",
    "\n",
    "    # Plotting the loss\n",
    "    plt.figure(figsize=(12, 6))\n",
    "\n",
    "    # Plot Training vs Validation Loss\n",
    "    plt.subplot(1, 2, 1)\n",
    "    plt.plot(train_loss, label='Training Loss')\n",
    "    plt.plot(val_loss, label='Validation Loss')\n",
    "    plt.title('Training vs Validation Loss')\n",
    "    plt.xlabel('Epochs')\n",
    "    plt.ylabel('Loss')\n",
    "    plt.legend()\n",
    "\n",
    "    # Plot Precision vs Recall\n",
    "    precision = history.history['f1_score']\n",
    "    recall = history.history.get('val_f1_score', None)\n",
    "    epochs = range(1, len(precision) + 1)\n",
    "\n",
    "    plt.subplot(1, 2, 2)\n",
    "    plt.plot(epochs, precision, label='Precision')\n",
    "    if recall:\n",
    "        plt.plot(epochs, recall, label='Recall')\n",
    "    plt.title('Precision vs Recall')\n",
    "    plt.xlabel('Epochs')\n",
    "    plt.ylabel('Score')\n",
    "    plt.legend()\n",
    "\n",
    "    plt.tight_layout()\n",
    "    plt.show()\n",
    "\n",
    "# Define a function to perform hyperparameter tuning\n",
    "def tune_hyperparameters():\n",
    "    param_grid = {\n",
    "        'lstm_units': [32, 64, 128],\n",
    "        'dropout_rate': [0.2, 0.3],\n",
    "        'learning_rate': [0.001, 0.005],\n",
    "        'batch_size': [32, 64],\n",
    "        'epochs': [10]\n",
    "    }\n",
    "    \n",
    "    best_model = None\n",
    "    best_f1_score = 0\n",
    "    best_params = {}\n",
    "    best_history = None\n",
    "    \n",
    "    for lstm_units in param_grid['lstm_units']:\n",
    "        for dropout_rate in param_grid['dropout_rate']:\n",
    "            for learning_rate in param_grid['learning_rate']:\n",
    "                for batch_size in param_grid['batch_size']:\n",
    "                    for epochs in param_grid['epochs']:\n",
    "                        print(f\"\\nTesting parameters: LSTM units = {lstm_units}, Dropout rate = {dropout_rate}, Learning rate = {learning_rate}, Batch size = {batch_size}, Epochs = {epochs}\")\n",
    "                        \n",
    "                        model = create_lstm_model(lstm_units, dropout_rate, learning_rate)\n",
    "                        \n",
    "                        history = model.fit(\n",
    "                            X_train_embeddings, y_train,\n",
    "                            validation_data=(X_test_embeddings, y_test),\n",
    "                            epochs=epochs,\n",
    "                            batch_size=batch_size,\n",
    "                            callbacks=[EarlyStopping(monitor='val_loss', patience=3, restore_best_weights=True)],\n",
    "                            verbose=0\n",
    "                        )\n",
    "                        \n",
    "                        # Evaluate the model\n",
    "                        y_pred_probs = model.predict(X_test_embeddings)\n",
    "                        y_pred = (y_pred_probs > 0.5).astype(int)\n",
    "                        \n",
    "                        # Calculate F1 score\n",
    "                        precision, recall, f1, _ = precision_recall_fscore_support(y_test, y_pred, average='binary')\n",
    "                        \n",
    "                        print(f\"F1 Score for this combination: {f1:.4f}\")\n",
    "                        \n",
    "                        if f1 > best_f1_score:\n",
    "                            best_f1_score = f1\n",
    "                            best_model = model\n",
    "                            best_params = {\n",
    "                                'lstm_units': lstm_units,\n",
    "                                'dropout_rate': dropout_rate,\n",
    "                                'learning_rate': learning_rate,\n",
    "                                'batch_size': batch_size,\n",
    "                                'epochs': epochs\n",
    "                            }\n",
    "                            best_history = history\n",
    "                            print(f\"New best model found with F1 Score: {best_f1_score:.4f}\")\n",
    "\n",
    "    print(\"\\nBest model parameters:\")\n",
    "    for param, value in best_params.items():\n",
    "        print(f\"{param}: {value}\")\n",
    "    \n",
    "    # Plot the performance of the best model\n",
    "    if best_history is not None:\n",
    "        plot_model_performance(best_history)\n",
    "    \n",
    "    return best_model\n",
    "\n",
    "# Perform hyperparameter tuning\n",
    "best_model = tune_hyperparameters()\n",
    "\n",
    "# Evaluate the best model\n",
    "y_pred_probs = best_model.predict(X_test_embeddings)\n",
    "y_pred = (y_pred_probs > 0.5).astype(int)\n",
    "accuracy = accuracy_score(y_test, y_pred)\n",
    "precision, recall, f1, _ = precision_recall_fscore_support(y_test, y_pred, average='binary')\n",
    "\n",
    "print(\"\\nTuned Model Evaluation:\")\n",
    "print(f\"Accuracy: {accuracy:.4f}\")\n",
    "print(f\"Precision: {precision:.4f}\")\n",
    "print(f\"Recall: {recall:.4f}\")\n",
    "print(f\"F1 Score: {f1:.4f}\")\n",
    "\n",
    "print(\"\\nClassification Report:\")\n",
    "print(classification_report(y_test, y_pred))"
   ]
  },
  {
   "cell_type": "code",
   "execution_count": 14,
   "id": "ee9ba007",
   "metadata": {},
   "outputs": [
    {
     "data": {
      "image/png": "[encoded data removed]",
      "text/plain": [
       "<Figure size 800x600 with 1 Axes>"
      ]
     },
     "metadata": {},
     "output_type": "display_data"
    }
   ],
   "source": [
    "from sklearn.metrics import confusion_matrix\n",
    "import seaborn as sns\n",
    "def plot_confusion_matrix(y_true, y_pred):\n",
    "    cm = confusion_matrix(y_true, y_pred)\n",
    "    plt.figure(figsize=(8, 6))\n",
    "    sns.heatmap(cm, annot=True, fmt='d', cmap='Blues', cbar=False)\n",
    "    plt.xlabel('Predicted')\n",
    "    plt.ylabel('Actual')\n",
    "#    plt.title('Confusion Matrix')\n",
    "    plt.show()\n",
    "\n",
    "plot_confusion_matrix(y_test, y_pred)"
   ]
  }
 ],
 "metadata": {
  "kernelspec": {
   "display_name": "Python 3 (ipykernel)",
   "language": "python",
   "name": "python3"
  },
  "language_info": {
   "codemirror_mode": {
    "name": "ipython",
    "version": 3
   },
   "file_extension": ".py",
   "mimetype": "text/x-python",
   "name": "python",
   "nbconvert_exporter": "python",
   "pygments_lexer": "ipython3",
   "version": "3.10.9"
  }
 },
 "nbformat": 4,
 "nbformat_minor": 5
}
